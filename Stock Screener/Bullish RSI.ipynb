{
  "nbformat": 4,
  "nbformat_minor": 0,
  "metadata": {
    "colab": {
      "name": "Bullish RSI.ipynb",
      "provenance": [],
      "collapsed_sections": [],
      "authorship_tag": "ABX9TyPdPXSz1/DrW9It/HgbCEVE"
    },
    "kernelspec": {
      "display_name": "Python 3",
      "name": "python3"
    }
  },
  "cells": [
    {
      "cell_type": "markdown",
      "metadata": {
        "id": "z8Emaff-2rFr",
        "badge": true,
        "repo_name": "VinodKumar9576/ML-Problems",
        "branch": "master",
        "nb_path": "Stock Screener/Bullish RSI.ipynb",
        "comment": "This badge cell was added by colab-badge-action"
      },
      "source": [
        "<a href=\"https://colab.research.google.com/github/VinodKumar9576/ML-Problems/blob/master/Stock Screener/Bullish RSI.ipynb\" target=\"_parent\"><img src=\"https://colab.research.google.com/assets/colab-badge.svg\" alt=\"Open In Colab\"/></a>"
      ]
    },
    {
      "cell_type": "code",
      "metadata": {
        "colab": {
          "base_uri": "https://localhost:8080/"
        },
        "id": "Ms7AesIzXfdh",
        "executionInfo": {
          "status": "ok",
          "timestamp": 1609216127704,
          "user_tz": -330,
          "elapsed": 11301,
          "user": {
            "displayName": "ml learning",
            "photoUrl": "https://lh3.googleusercontent.com/a-/AOh14Gi54U31iecMtBQhQx-mLOAQPIRpb8LNaNz7bB7A=s64",
            "userId": "11852164450280049527"
          }
        },
        "outputId": "d227b9b5-f911-4b26-b38b-974b7d468a61"
      },
      "source": [
        "!pip install requests-html"
      ],
      "execution_count": null,
      "outputs": [
        {
          "output_type": "stream",
          "text": [
            "Collecting requests-html\n",
            "  Downloading https://files.pythonhosted.org/packages/24/bc/a4380f09bab3a776182578ce6b2771e57259d0d4dbce178205779abdc347/requests_html-0.10.0-py3-none-any.whl\n",
            "Requirement already satisfied: bs4 in /usr/local/lib/python3.6/dist-packages (from requests-html) (0.0.1)\n",
            "Collecting fake-useragent\n",
            "  Downloading https://files.pythonhosted.org/packages/d1/79/af647635d6968e2deb57a208d309f6069d31cb138066d7e821e575112a80/fake-useragent-0.1.11.tar.gz\n",
            "Collecting pyquery\n",
            "  Downloading https://files.pythonhosted.org/packages/58/0b/85d15e21f660a8ea68b1e0286168938857391f4ec9f6d204d91c9e013826/pyquery-1.4.3-py3-none-any.whl\n",
            "Collecting parse\n",
            "  Downloading https://files.pythonhosted.org/packages/b8/49/85f19d9ff908817b864deebf7f68211f9a6fc0b48746d372d970f60d01f5/parse-1.18.0.tar.gz\n",
            "Collecting w3lib\n",
            "  Downloading https://files.pythonhosted.org/packages/a3/59/b6b14521090e7f42669cafdb84b0ab89301a42f1f1a82fcf5856661ea3a7/w3lib-1.22.0-py2.py3-none-any.whl\n",
            "Collecting pyppeteer>=0.0.14\n",
            "\u001b[?25l  Downloading https://files.pythonhosted.org/packages/5d/4b/3c2aabdd1b91fa52aa9de6cde33b488b0592b4d48efb0ad9efbf71c49f5b/pyppeteer-0.2.2-py3-none-any.whl (145kB)\n",
            "\u001b[K     |\u2588\u2588\u2588\u2588\u2588\u2588\u2588\u2588\u2588\u2588\u2588\u2588\u2588\u2588\u2588\u2588\u2588\u2588\u2588\u2588\u2588\u2588\u2588\u2588\u2588\u2588\u2588\u2588\u2588\u2588\u2588\u2588| 153kB 7.1MB/s \n",
            "\u001b[?25hRequirement already satisfied: requests in /usr/local/lib/python3.6/dist-packages (from requests-html) (2.23.0)\n",
            "Requirement already satisfied: beautifulsoup4 in /usr/local/lib/python3.6/dist-packages (from bs4->requests-html) (4.6.3)\n",
            "Collecting cssselect>0.7.9\n",
            "  Downloading https://files.pythonhosted.org/packages/3b/d4/3b5c17f00cce85b9a1e6f91096e1cc8e8ede2e1be8e96b87ce1ed09e92c5/cssselect-1.1.0-py2.py3-none-any.whl\n",
            "Requirement already satisfied: lxml>=2.1 in /usr/local/lib/python3.6/dist-packages (from pyquery->requests-html) (4.2.6)\n",
            "Requirement already satisfied: six>=1.4.1 in /usr/local/lib/python3.6/dist-packages (from w3lib->requests-html) (1.15.0)\n",
            "Collecting urllib3<2.0.0,>=1.25.8\n",
            "\u001b[?25l  Downloading https://files.pythonhosted.org/packages/f5/71/45d36a8df68f3ebb098d6861b2c017f3d094538c0fb98fa61d4dc43e69b9/urllib3-1.26.2-py2.py3-none-any.whl (136kB)\n",
            "\u001b[K     |\u2588\u2588\u2588\u2588\u2588\u2588\u2588\u2588\u2588\u2588\u2588\u2588\u2588\u2588\u2588\u2588\u2588\u2588\u2588\u2588\u2588\u2588\u2588\u2588\u2588\u2588\u2588\u2588\u2588\u2588\u2588\u2588| 143kB 21.7MB/s \n",
            "\u001b[?25hCollecting appdirs<2.0.0,>=1.4.3\n",
            "  Downloading https://files.pythonhosted.org/packages/3b/00/2344469e2084fb287c2e0b57b72910309874c3245463acd6cf5e3db69324/appdirs-1.4.4-py2.py3-none-any.whl\n",
            "Collecting websockets<9.0,>=8.1\n",
            "\u001b[?25l  Downloading https://files.pythonhosted.org/packages/bb/d9/856af84843912e2853b1b6e898ac8b802989fcf9ecf8e8445a1da263bf3b/websockets-8.1-cp36-cp36m-manylinux2010_x86_64.whl (78kB)\n",
            "\u001b[K     |\u2588\u2588\u2588\u2588\u2588\u2588\u2588\u2588\u2588\u2588\u2588\u2588\u2588\u2588\u2588\u2588\u2588\u2588\u2588\u2588\u2588\u2588\u2588\u2588\u2588\u2588\u2588\u2588\u2588\u2588\u2588\u2588| 81kB 8.3MB/s \n",
            "\u001b[?25hCollecting tqdm<5.0.0,>=4.42.1\n",
            "\u001b[?25l  Downloading https://files.pythonhosted.org/packages/05/bb/9403e1f30ed060e16835c9b275620ca89191a41ccc2b995b88efbc32dfd9/tqdm-4.55.0-py2.py3-none-any.whl (68kB)\n",
            "\u001b[K     |\u2588\u2588\u2588\u2588\u2588\u2588\u2588\u2588\u2588\u2588\u2588\u2588\u2588\u2588\u2588\u2588\u2588\u2588\u2588\u2588\u2588\u2588\u2588\u2588\u2588\u2588\u2588\u2588\u2588\u2588\u2588\u2588| 71kB 7.8MB/s \n",
            "\u001b[?25hCollecting pyee<8.0.0,>=7.0.1\n",
            "  Downloading https://files.pythonhosted.org/packages/64/f3/90db6276dbc6cb1defa558251acc73c8e436ca8e1e2b38ec75786278de7c/pyee-7.0.4-py2.py3-none-any.whl\n",
            "Requirement already satisfied: chardet<4,>=3.0.2 in /usr/local/lib/python3.6/dist-packages (from requests->requests-html) (3.0.4)\n",
            "Requirement already satisfied: idna<3,>=2.5 in /usr/local/lib/python3.6/dist-packages (from requests->requests-html) (2.10)\n",
            "Requirement already satisfied: certifi>=2017.4.17 in /usr/local/lib/python3.6/dist-packages (from requests->requests-html) (2020.12.5)\n",
            "Building wheels for collected packages: fake-useragent, parse\n",
            "  Building wheel for fake-useragent (setup.py) ... \u001b[?25l\u001b[?25hdone\n",
            "  Created wheel for fake-useragent: filename=fake_useragent-0.1.11-cp36-none-any.whl size=13485 sha256=09ed64ee6ceb4995503a4f64f7d4122992680df7a619f91021acd6d1b795353c\n",
            "  Stored in directory: /root/.cache/pip/wheels/5e/63/09/d1dc15179f175357d3f5c00cbffbac37f9e8690d80545143ff\n",
            "  Building wheel for parse (setup.py) ... \u001b[?25l\u001b[?25hdone\n",
            "  Created wheel for parse: filename=parse-1.18.0-cp36-none-any.whl size=24134 sha256=3460a8ffc04b4dff91560c88b9c977e23f9a5420e16573c40979377bbabe157e\n",
            "  Stored in directory: /root/.cache/pip/wheels/2a/53/09/869ca5781ede342254ffac09ca99461b008c3e5f8dd079b0c0\n",
            "Successfully built fake-useragent parse\n",
            "\u001b[31mERROR: requests 2.23.0 has requirement urllib3!=1.25.0,!=1.25.1,<1.26,>=1.21.1, but you'll have urllib3 1.26.2 which is incompatible.\u001b[0m\n",
            "\u001b[31mERROR: datascience 0.10.6 has requirement folium==0.2.1, but you'll have folium 0.8.3 which is incompatible.\u001b[0m\n",
            "Installing collected packages: fake-useragent, cssselect, pyquery, parse, w3lib, urllib3, appdirs, websockets, tqdm, pyee, pyppeteer, requests-html\n",
            "  Found existing installation: urllib3 1.24.3\n",
            "    Uninstalling urllib3-1.24.3:\n",
            "      Successfully uninstalled urllib3-1.24.3\n",
            "  Found existing installation: tqdm 4.41.1\n",
            "    Uninstalling tqdm-4.41.1:\n",
            "      Successfully uninstalled tqdm-4.41.1\n",
            "Successfully installed appdirs-1.4.4 cssselect-1.1.0 fake-useragent-0.1.11 parse-1.18.0 pyee-7.0.4 pyppeteer-0.2.2 pyquery-1.4.3 requests-html-0.10.0 tqdm-4.55.0 urllib3-1.26.2 w3lib-1.22.0 websockets-8.1\n"
          ],
          "name": "stdout"
        }
      ]
    },
    {
      "cell_type": "code",
      "metadata": {
        "colab": {
          "base_uri": "https://localhost:8080/"
        },
        "id": "HOnesCVDWG8H",
        "executionInfo": {
          "status": "ok",
          "timestamp": 1609216132948,
          "user_tz": -330,
          "elapsed": 16530,
          "user": {
            "displayName": "ml learning",
            "photoUrl": "https://lh3.googleusercontent.com/a-/AOh14Gi54U31iecMtBQhQx-mLOAQPIRpb8LNaNz7bB7A=s64",
            "userId": "11852164450280049527"
          }
        },
        "outputId": "b7538818-56f1-47bd-c5d5-8b834b137e87"
      },
      "source": [
        "!pip install telegram-send\n",
        "#!telegram-send --configure"
      ],
      "execution_count": null,
      "outputs": [
        {
          "output_type": "stream",
          "text": [
            "Collecting telegram-send\n",
            "  Downloading https://files.pythonhosted.org/packages/ab/85/07dae32dfbe1f9773ac1858f76fd6efc42a715963cd05655f7282e994e75/telegram_send-0.25-py2.py3-none-any.whl\n",
            "Collecting python-telegram-bot>=12.1.1\n",
            "\u001b[?25l  Downloading https://files.pythonhosted.org/packages/cc/b3/f363e9c5c2e4690a1fd352c01263eb2938952888c09d73c824b49d288dcc/python_telegram_bot-13.1-py3-none-any.whl (422kB)\n",
            "\u001b[K     |\u2588\u2588\u2588\u2588\u2588\u2588\u2588\u2588\u2588\u2588\u2588\u2588\u2588\u2588\u2588\u2588\u2588\u2588\u2588\u2588\u2588\u2588\u2588\u2588\u2588\u2588\u2588\u2588\u2588\u2588\u2588\u2588| 430kB 6.6MB/s \n",
            "\u001b[?25hRequirement already satisfied: appdirs in /usr/local/lib/python3.6/dist-packages (from telegram-send) (1.4.4)\n",
            "Collecting colorama\n",
            "  Downloading https://files.pythonhosted.org/packages/44/98/5b86278fbbf250d239ae0ecb724f8572af1c91f4a11edf4d36a206189440/colorama-0.4.4-py2.py3-none-any.whl\n",
            "Collecting APScheduler==3.6.3\n",
            "\u001b[?25l  Downloading https://files.pythonhosted.org/packages/f3/34/9ef20ed473c4fd2c3df54ef77a27ae3fc7500b16b192add4720cab8b2c09/APScheduler-3.6.3-py2.py3-none-any.whl (58kB)\n",
            "\u001b[K     |\u2588\u2588\u2588\u2588\u2588\u2588\u2588\u2588\u2588\u2588\u2588\u2588\u2588\u2588\u2588\u2588\u2588\u2588\u2588\u2588\u2588\u2588\u2588\u2588\u2588\u2588\u2588\u2588\u2588\u2588\u2588\u2588| 61kB 4.2MB/s \n",
            "\u001b[?25hRequirement already satisfied: decorator>=4.4.0 in /usr/local/lib/python3.6/dist-packages (from python-telegram-bot>=12.1.1->telegram-send) (4.4.2)\n",
            "Requirement already satisfied: certifi in /usr/local/lib/python3.6/dist-packages (from python-telegram-bot>=12.1.1->telegram-send) (2020.12.5)\n",
            "Requirement already satisfied: tornado>=5.1 in /usr/local/lib/python3.6/dist-packages (from python-telegram-bot>=12.1.1->telegram-send) (5.1.1)\n",
            "Requirement already satisfied: pytz>=2018.6 in /usr/local/lib/python3.6/dist-packages (from python-telegram-bot>=12.1.1->telegram-send) (2018.9)\n",
            "Collecting cryptography\n",
            "\u001b[?25l  Downloading https://files.pythonhosted.org/packages/c9/de/7054df0620b5411ba45480f0261e1fb66a53f3db31b28e3aa52c026e72d9/cryptography-3.3.1-cp36-abi3-manylinux2010_x86_64.whl (2.6MB)\n",
            "\u001b[K     |\u2588\u2588\u2588\u2588\u2588\u2588\u2588\u2588\u2588\u2588\u2588\u2588\u2588\u2588\u2588\u2588\u2588\u2588\u2588\u2588\u2588\u2588\u2588\u2588\u2588\u2588\u2588\u2588\u2588\u2588\u2588\u2588| 2.6MB 24.4MB/s \n",
            "\u001b[?25hRequirement already satisfied: setuptools>=0.7 in /usr/local/lib/python3.6/dist-packages (from APScheduler==3.6.3->python-telegram-bot>=12.1.1->telegram-send) (51.0.0)\n",
            "Requirement already satisfied: six>=1.4.0 in /usr/local/lib/python3.6/dist-packages (from APScheduler==3.6.3->python-telegram-bot>=12.1.1->telegram-send) (1.15.0)\n",
            "Requirement already satisfied: tzlocal>=1.2 in /usr/local/lib/python3.6/dist-packages (from APScheduler==3.6.3->python-telegram-bot>=12.1.1->telegram-send) (1.5.1)\n",
            "Requirement already satisfied: cffi>=1.12 in /usr/local/lib/python3.6/dist-packages (from cryptography->python-telegram-bot>=12.1.1->telegram-send) (1.14.4)\n",
            "Requirement already satisfied: pycparser in /usr/local/lib/python3.6/dist-packages (from cffi>=1.12->cryptography->python-telegram-bot>=12.1.1->telegram-send) (2.20)\n",
            "Installing collected packages: APScheduler, cryptography, python-telegram-bot, colorama, telegram-send\n",
            "Successfully installed APScheduler-3.6.3 colorama-0.4.4 cryptography-3.3.1 python-telegram-bot-13.1 telegram-send-0.25\n"
          ],
          "name": "stdout"
        }
      ]
    },
    {
      "cell_type": "code",
      "metadata": {
        "colab": {
          "base_uri": "https://localhost:8080/"
        },
        "id": "zo_nJ-EIvp5a",
        "executionInfo": {
          "status": "ok",
          "timestamp": 1609216133766,
          "user_tz": -330,
          "elapsed": 17337,
          "user": {
            "displayName": "ml learning",
            "photoUrl": "https://lh3.googleusercontent.com/a-/AOh14Gi54U31iecMtBQhQx-mLOAQPIRpb8LNaNz7bB7A=s64",
            "userId": "11852164450280049527"
          }
        },
        "outputId": "3827692c-ce3d-4702-ede6-ffa3387e4dbb"
      },
      "source": [
        "import requests\n",
        "from bs4 import BeautifulSoup\n",
        "import time\n",
        "import telegram_send\n",
        "import pandas as pd\n",
        "import numpy as np\n",
        "import matplotlib.pyplot as plt\n",
        "import six\n",
        "\n",
        "#Code for telegram messages\n",
        "telegram_token = '1361504293:AAEdPRnT4HNMmPSzUHjB9ClWLdrH9dfZWOE'\n",
        "chat_id = '-1001495643344'\n",
        "path_config = telegram_send.get_config_path()\n",
        "with open(path_config, 'w') as f:\n",
        "  f.write(f'[telegram]\\ntoken = {telegram_token}\\nchat_id = {chat_id}')"
      ],
      "execution_count": null,
      "outputs": [
        {
          "output_type": "stream",
          "text": [
            "/usr/local/lib/python3.6/dist-packages/requests/__init__.py:91: RequestsDependencyWarning: urllib3 (1.26.2) or chardet (3.0.4) doesn't match a supported version!\n",
            "  RequestsDependencyWarning)\n"
          ],
          "name": "stderr"
        }
      ]
    },
    {
      "cell_type": "markdown",
      "metadata": {
        "id": "iJijBj4IhSrY"
      },
      "source": [
        "* Code to extract MIS stocks in Zerodha"
      ]
    },
    {
      "cell_type": "code",
      "metadata": {
        "id": "kwcVynYQhRTJ"
      },
      "source": [
        "src_url = 'https://zerodha.com/margin-calculator/Equity/'\n",
        "with requests.Session() as s:\n",
        "    r = s.get(src_url)\n",
        "    soup = BeautifulSoup(r.text, \"html.parser\")\n",
        "\n",
        "div_cont = soup.find('div', {'id': 'header-container'})\n",
        "table_div = div_cont.find('table', {'id':'table'})\n",
        "table_rows = table_div.find_all('tr')\n",
        "\n",
        "mis_ls = []\n",
        "for tr in table_rows:\n",
        "  try:\n",
        "    td = tr.find('td')\n",
        "    row = td.text\n",
        "    mis_ls.append(row)\n",
        "  except:\n",
        "    None\n",
        "\n",
        "mis_stocks = pd.DataFrame(data = mis_ls, columns = ['Scrip'])"
      ],
      "execution_count": null,
      "outputs": []
    },
    {
      "cell_type": "markdown",
      "metadata": {
        "id": "owrcaRh8-WHK"
      },
      "source": [
        "* Conditions for scanner"
      ]
    },
    {
      "cell_type": "code",
      "metadata": {
        "id": "oIPKv4pNH_d0"
      },
      "source": [
        "#For positional trade (rsi include DTF, WKTF, MOTF candles)\n",
        "pos_multi_RSI = '(+{cash}+(+latest+close+>=+300+and+latest+volume+<=+500000+and+latest+adx(+14+)+>=+30+and(+{cash}+(+latest+rsi(+14+)+>+70+and+1+day+ago++rsi(+14+)+<=+70+or+weekly+rsi(+14+)+>+70+and+1+week+ago++rsi(+14+)+<=+70+or+monthly+rsi(+14+)+>+70+and+1+month+ago++rsi(+14+)+<=+70+)+)+and+latest+close+>=+latest+sma(+close,50+)+and+latest+macd+histogram(+26,12,9+)+>=+1+day+ago+macd+histogram(+26,12,9+)+and+latest+close+<=+4000+and+latest+volume+>+20+)+)+'\n",
        "pos_multi_RSI = pos_multi_RSI.replace('+', ' ')\n",
        "\n",
        "\n",
        "\n",
        "#(rsi include only Daily candle)\n",
        "intra_RSI_D = '(+{cash}+(+latest+close+>=+300+and+latest+volume+<=+500000+and+latest+adx(+14+)+>=+30+and(+{cash}+(+latest+rsi(+14+)+>+70+and+1+day+ago++rsi(+14+)+<=+70+)+)+and+latest+close+>=+latest+sma(+close,50+)+and+latest+macd+histogram(+26,12,9+)+>=+1+day+ago+macd+histogram(+26,12,9+)+and+latest+close+<=+4000+and+latest+volume+>+20+)+)+'\n",
        "intra_RSI_D = intra_RSI_D.replace('+', ' ')\n",
        "\n",
        "\n",
        "#For Intraday considering just 5min candle along with other conditions\n",
        "intra_RSI = '(+{cash}+(+latest+close+>=+300+and+latest+volume+<=+500000+and+latest+adx(+14+)+>=+30+and(+{cash}+(+[0]+5+minute+rsi(+14+)+>+70+and+[+-1+]+5+minute+rsi(+14+)+<=+70+)+)+and+latest+close+>=+latest+sma(+close,50+)+and+latest+macd+histogram(+26,12,9+)+>=+1+day+ago+macd+histogram(+26,12,9+)+and+latest+close+<=+4000+and+latest+volume+>+20+)+)+'\n",
        "intra_RSI = intra_RSI.replace('+', ' ')\n",
        "\n",
        "\n",
        "\n",
        "#Include 5min, dtf, wktf, motf candles\n",
        "#With below we get stocks that cross rsi > 70 and the stocks currently also\n",
        "#trading with RSI>70 & at 10:25 we get day RSI broke stocks\n",
        "comp_intra = '(+{cash}+(+latest+close+>=+300+and+latest+volume+<=+500000+and+latest+adx(+14+)+>=+30+and(+{cash}+(+latest+rsi(+14+)+>+70+and+1+day+ago++rsi(+14+)+<=+70+or+weekly+rsi(+14+)+>+70+and+1+week+ago++rsi(+14+)+<=+70+or+monthly+rsi(+14+)+>+70+and+1+month+ago++rsi(+14+)+<=+70+or+[0]+5+minute+rsi(+14+)+>+70+and+[+-1+]+5+minute+rsi(+14+)+<=+70+)+)+and+latest+close+>=+latest+sma(+close,50+)+and+latest+macd+histogram(+26,12,9+)+>=+1+day+ago+macd+histogram(+26,12,9+)+and+latest+close+<=+4000+and+latest+volume+>+20+)+)+'\n",
        "comp_intra = comp_intra.replace('+', ' ')\n",
        "\n",
        "\n",
        "#Just rsi>70 in 5min candle\n",
        "just_rsi = '(+{cash}+(+latest+close+>=+300+and+latest+volume+<=+500000+and(+{cash}+(+[0]+5+minute+rsi(+14+)+>+66.6+and+[+-1+]+5+minute+rsi(+14+)+<=+66.6+)+)+and+latest+close+<=+4000+and+latest+volume+>+20+)+)+'\n",
        "just_rsi = just_rsi.replace('+', ' ')\n",
        "\n",
        "\n",
        "#cross-over scanner\n",
        "#22DEMA cross above 50SMA & 30HMA cross above 50SMA\n",
        "#fad_cross_over = '(+{cash}+(+[0]+5+minute+ema(+[0]+5+minute+close+,+22+)+>+[0]+5+minute+sma(+close,50+)+and+[+-1+]+5+minute+ema(+[0]+5+minute+close+,+22+)<=+[+-1+]+5+minute+sma(+close,50+)+and+[0]+5+minute+\"wma(+(+(+2+*+wma(+([0]+5+minute+close),+15)+)+-+wma(([0]+5+minute+close),+30)+),+5)\"+>+[0]+5+minute+sma(+[0]+5+minute+close+,+50+)+and+[+-1+]+5+minute+\"wma(+(+(+2+*+wma(+([0]+5+minute+close),+15)+)+-+wma(([0]+5+minute+close),+30)+),+5)\"+<=+[+-1+]+5+minute+sma(+[0]+5+minute+close+,+50+)+)+)+'\n",
        "#fad_cross_over = fad_cross_over.replace('+', ' ')\n",
        "\n",
        "fad_cross_over = '(+{cash}+(+[0]+5+minute+ema(+[0]+5+minute+close+,+22+)+>+[0]+5+minute+sma(+close,50+)+and+[+-1+]+5+minute+ema(+[0]+5+minute+close+,+22+)<=+[+-1+]+5+minute+sma(+close,50+)+and+[0]+5+minute+\"wma(+(+(+2+*+wma(+([0]+5+minute+close),+15)+)+-+wma(([0]+5+minute+close),+30)+),+5)\"+>+[0]+5+minute+sma(+close,50+)+and+[+-1+]+5+minute+\"wma(+(+(+2+*+wma(+([0]+5+minute+close),+15)+)+-+wma(([0]+5+minute+close),+30)+),+5)\"+<=+[+-1+]+5+minute+sma(+close,50+)+and+latest+close+>+150+)+)+'\n",
        "fad_cross_over = fad_cross_over.replace('+', ' ')\n",
        "\n",
        "\n",
        "#15min candle cross over\n",
        "# 9EMA crosses 22SMA\n",
        "fift_cross_over = '(+{cash}+(+[0]+15+minute+sma(+close,9+)+>+[0]+15+minute+sma(+close,22+)+and+[+-1+]+15+minute+sma(+close,9+)<=+[+-1+]+15+minute+sma(+close,22+)+and+latest+close+>+200+)+)+'"
      ],
      "execution_count": null,
      "outputs": []
    },
    {
      "cell_type": "markdown",
      "metadata": {
        "id": "rX6KX1oKZKHM"
      },
      "source": [
        "Tomorrow try 'comp_intra' if don't get much opportunities, try 'intra_RSI'"
      ]
    },
    {
      "cell_type": "code",
      "metadata": {
        "id": "oE5GFdWXOffo"
      },
      "source": [
        "#has to run only once in an entire day\n",
        "sym_set_prev = set()\n",
        "\n",
        "#Parameters & Selection criteria\n",
        "src_url = \"https://chartink.com/screener/rsi-14-wd-cross-above-60\"\n",
        "base_url = 'https://chartink.com/screener/process'\n",
        "\n",
        "payload = {\n",
        "    'scan_clause':\tfad_cross_over\n",
        "}"
      ],
      "execution_count": null,
      "outputs": []
    },
    {
      "cell_type": "markdown",
      "metadata": {
        "id": "Q94WPyWstq9N"
      },
      "source": [
        "* Should maintain atleast 2 min gap between each requests, as we are not getting response due to 'Too many requests'."
      ]
    },
    {
      "cell_type": "code",
      "metadata": {
        "id": "6hQEI8P72T9-"
      },
      "source": [
        "def render_mpl_table(data, col_width=3.0, row_height=0.625, font_size=14,\n",
        "                     header_color='#40466e', row_colors=['#f1f1f2', 'w'], edge_color='w',\n",
        "                     bbox=[0, 0, 1, 1], header_columns=0,\n",
        "                     ax=None, **kwargs):\n",
        "    if ax is None:\n",
        "        size = (np.array(data.shape[::-1]) + np.array([0, 1])) * np.array([col_width, row_height])\n",
        "        fig, ax = plt.subplots(figsize=size)\n",
        "        ax.axis('off')\n",
        "\n",
        "    mpl_table = ax.table(cellText=data.values, bbox=bbox, colLabels=data.columns, **kwargs)\n",
        "\n",
        "    mpl_table.auto_set_font_size(False)\n",
        "    mpl_table.set_fontsize(font_size)\n",
        "\n",
        "    for k, cell in  six.iteritems(mpl_table._cells):\n",
        "        cell.set_edgecolor(edge_color)\n",
        "        if k[0] == 0 or k[1] < header_columns:\n",
        "            cell.set_text_props(weight='bold', color='w')\n",
        "            cell.set_facecolor(header_color)\n",
        "        else:\n",
        "            cell.set_facecolor(row_colors[k[0]%len(row_colors) ])\n",
        "    plt.close(fig)\n",
        "    return fig"
      ],
      "execution_count": null,
      "outputs": []
    },
    {
      "cell_type": "code",
      "metadata": {
        "id": "s4h7OYPki-QF"
      },
      "source": [
        "def temp_func(sym_set_prev):\n",
        "  def BULLISH_RSI(payload, src_url, base_url):\n",
        "    stk_sym_ls = []\n",
        "    stk_sym_now = set()\n",
        "\n",
        "    with requests.Session() as s:\n",
        "      r = s.get(src_url)\n",
        "      soup = BeautifulSoup(r.text, \"html.parser\")\n",
        "      csrf = soup.select_one(\"[name='csrf-token']\")['content']\n",
        "      s.headers['x-csrf-token'] = csrf\n",
        "      r = s.post(base_url, data = payload)\n",
        "\n",
        "      for item in r.json()['data']:\n",
        "        stk_sym_now.add(item['nsecode'])\n",
        "        stk_sym_ls.append([item['nsecode'],item['close'],item['volume']])\n",
        "    \n",
        "      #stk_sym_now = stk_sym_now - stk_sym_prev\n",
        "      #stk_sym_prev = stk_sym_now\n",
        "      stk_sym_df = pd.DataFrame(stk_sym_ls, columns = ['Symbol', 'Close', 'Volume'])\n",
        "  \n",
        "    return stk_sym_now, stk_sym_df\n",
        "\n",
        "\n",
        "  #To get the stocks & to filter out from previous run\n",
        "  sym_set_now, sym_df = BULLISH_RSI(payload, src_url, base_url)\n",
        "  sym_set_now = sym_set_now - sym_set_prev\n",
        "  sym_set_prev = sym_set_now\n",
        "\n",
        "  #To send messages only when stocks are filtered.\n",
        "  if(bool(sym_set_now)):\n",
        "    sym_df = sym_df[sym_df['Symbol'].isin(sym_set_now)].sort_values(['Symbol'])\n",
        "    \n",
        "    #making mis allowed flag column\n",
        "    sym_df['Mis_allowed'] = sym_df['Symbol'].isin(mis_stocks['Scrip']).astype(int)\n",
        "    sym_df.replace({'Mis_allowed':{1:'Yes', 0:'No'}}, inplace = True)\n",
        "\n",
        "    #making serial column\n",
        "    sym_df['Sl.No'] = np.arange(1, len(sym_df)+1)\n",
        "    \n",
        "    #moving serial column to first position\n",
        "    cols = sym_df.columns.tolist()\n",
        "    cols = cols[-1:] + cols[:-1]\n",
        "    sym_df = sym_df[cols]\n",
        "\n",
        "\n",
        "    #sending stocks as image\n",
        "    fig = render_mpl_table(sym_df, header_columns=0, col_width=2.0)\n",
        "    fig.savefig('Bullish_RSI_Stocks.png', bbox_inches = 'tight', pad_inches = 0)\n",
        "\n",
        "    #sending image to telegram\n",
        "    with open(\"Bullish_RSI_Stocks.png\", \"rb\") as f:\n",
        "      telegram_send.send(images=[f], captions = ['Bullish Intraday Stocks that crossed RSI 70'])\n",
        "\n",
        "    #taking extra space so removing below and sending stocks as text\n",
        "    #Formatting the df values\n",
        "    #sym_df = sym_df.applymap(str)\n",
        "    #sym_df['Symbol'] = 'Symbol : ' + sym_df['Symbol']\n",
        "    #sym_df['Close'] = 'Price : ' + sym_df['Close']\n",
        "    #sym_df['Volume'] = 'Volume : ' + sym_df['Volume']\n",
        "\n",
        "    #sym_str = sym_df.agg('\\n'.join, axis = 1)\n",
        "    #sym_dtls = ['\\n\\n'.join(sym_str)]\n",
        "    \n",
        "    #tm = [time.strftime('%a, %d %b %Y %H:%M:%S', time.localtime(time.time()+5.5*60*60))]\n",
        "    #tm.extend(sym_dtls)\n",
        "    #finl_st = ['\\n\\n'.join(tm)]\n",
        "    #telegram_send.send(messages = finl_st)\n",
        "  \n",
        "  return sym_set_prev"
      ],
      "execution_count": null,
      "outputs": []
    },
    {
      "cell_type": "code",
      "metadata": {
        "colab": {
          "base_uri": "https://localhost:8080/",
          "height": 334
        },
        "id": "ZT3T6_UbYcPs",
        "executionInfo": {
          "status": "error",
          "timestamp": 1609237795106,
          "user_tz": -330,
          "elapsed": 3111539,
          "user": {
            "displayName": "ml learning",
            "photoUrl": "https://lh3.googleusercontent.com/a-/AOh14Gi54U31iecMtBQhQx-mLOAQPIRpb8LNaNz7bB7A=s64",
            "userId": "11852164450280049527"
          }
        },
        "outputId": "818af0a2-9019-4ad1-beab-93c7bc1234c7"
      },
      "source": [
        "import sched, time\n",
        "s = sched.scheduler(time.time, time.sleep)\n",
        "\n",
        "def run_screener(s, sym_set_prev, t):\n",
        "  sym_prev_out = temp_func(sym_set_prev)\n",
        "  sym_set_prev = sym_prev_out\n",
        "\n",
        "  t = t+(10/60)*60*60\n",
        "  s.enterabs(t, 1, run_screener, (s,sym_set_prev,t))\n",
        "\n",
        "#Don't forget to change the date every day, else code will run for every second if date is less than today date\n",
        "t = time.strptime('2020-12-29 10:20:00', '%Y-%m-%d %H:%M:%S')\n",
        "t = time.mktime(t)-5.5*60*60\n",
        "\n",
        "s.enterabs(t, 1, run_screener, (s,sym_set_prev,t))\n",
        "s.run()"
      ],
      "execution_count": null,
      "outputs": [
        {
          "output_type": "error",
          "ename": "KeyboardInterrupt",
          "evalue": "ignored",
          "traceback": [
            "\u001b[0;31m---------------------------------------------------------------------------\u001b[0m",
            "\u001b[0;31mKeyboardInterrupt\u001b[0m                         Traceback (most recent call last)",
            "\u001b[0;32m<ipython-input-10-7cb9b6ef0a01>\u001b[0m in \u001b[0;36m<module>\u001b[0;34m()\u001b[0m\n\u001b[1;32m     14\u001b[0m \u001b[0;34m\u001b[0m\u001b[0m\n\u001b[1;32m     15\u001b[0m \u001b[0ms\u001b[0m\u001b[0;34m.\u001b[0m\u001b[0menterabs\u001b[0m\u001b[0;34m(\u001b[0m\u001b[0mt\u001b[0m\u001b[0;34m,\u001b[0m \u001b[0;36m1\u001b[0m\u001b[0;34m,\u001b[0m \u001b[0mrun_screener\u001b[0m\u001b[0;34m,\u001b[0m \u001b[0;34m(\u001b[0m\u001b[0ms\u001b[0m\u001b[0;34m,\u001b[0m\u001b[0msym_set_prev\u001b[0m\u001b[0;34m,\u001b[0m\u001b[0mt\u001b[0m\u001b[0;34m)\u001b[0m\u001b[0;34m)\u001b[0m\u001b[0;34m\u001b[0m\u001b[0;34m\u001b[0m\u001b[0m\n\u001b[0;32m---> 16\u001b[0;31m \u001b[0ms\u001b[0m\u001b[0;34m.\u001b[0m\u001b[0mrun\u001b[0m\u001b[0;34m(\u001b[0m\u001b[0;34m)\u001b[0m\u001b[0;34m\u001b[0m\u001b[0;34m\u001b[0m\u001b[0m\n\u001b[0m",
            "\u001b[0;32m/usr/lib/python3.6/sched.py\u001b[0m in \u001b[0;36mrun\u001b[0;34m(self, blocking)\u001b[0m\n\u001b[1;32m    150\u001b[0m                 \u001b[0;32mif\u001b[0m \u001b[0;32mnot\u001b[0m \u001b[0mblocking\u001b[0m\u001b[0;34m:\u001b[0m\u001b[0;34m\u001b[0m\u001b[0;34m\u001b[0m\u001b[0m\n\u001b[1;32m    151\u001b[0m                     \u001b[0;32mreturn\u001b[0m \u001b[0mtime\u001b[0m \u001b[0;34m-\u001b[0m \u001b[0mnow\u001b[0m\u001b[0;34m\u001b[0m\u001b[0;34m\u001b[0m\u001b[0m\n\u001b[0;32m--> 152\u001b[0;31m                 \u001b[0mdelayfunc\u001b[0m\u001b[0;34m(\u001b[0m\u001b[0mtime\u001b[0m \u001b[0;34m-\u001b[0m \u001b[0mnow\u001b[0m\u001b[0;34m)\u001b[0m\u001b[0;34m\u001b[0m\u001b[0;34m\u001b[0m\u001b[0m\n\u001b[0m\u001b[1;32m    153\u001b[0m             \u001b[0;32melse\u001b[0m\u001b[0;34m:\u001b[0m\u001b[0;34m\u001b[0m\u001b[0;34m\u001b[0m\u001b[0m\n\u001b[1;32m    154\u001b[0m                 \u001b[0maction\u001b[0m\u001b[0;34m(\u001b[0m\u001b[0;34m*\u001b[0m\u001b[0margument\u001b[0m\u001b[0;34m,\u001b[0m \u001b[0;34m**\u001b[0m\u001b[0mkwargs\u001b[0m\u001b[0;34m)\u001b[0m\u001b[0;34m\u001b[0m\u001b[0;34m\u001b[0m\u001b[0m\n",
            "\u001b[0;31mKeyboardInterrupt\u001b[0m: "
          ]
        }
      ]
    },
    {
      "cell_type": "code",
      "metadata": {
        "id": "ufRw05wa2GRV"
      },
      "source": [
        "sym_prev_out = temp_func(sym_set_prev)\n",
        "sym_set_prev = sym_prev_out"
      ],
      "execution_count": null,
      "outputs": []
    },
    {
      "cell_type": "code",
      "metadata": {
        "id": "__hXSZT5YycA"
      },
      "source": [
        "import sched\n",
        "import time as time_module\n",
        "\n",
        "def myfunc(scheduler,t):\n",
        "  print(\"Working\")\n",
        "  t = t+(1/12)*60*60\n",
        "  scheduler.enterabs(t, 1, myfunc, (scheduler, t))\n",
        "\n",
        "scheduler = sched.scheduler(time_module.time, time_module.sleep)\n",
        "\n",
        "t = time_module.strptime('2020-12-04 09:15:00', '%Y-%m-%d %H:%M:%S')\n",
        "t = time_module.mktime(t)-5.5*60*60\n",
        "scheduler_e = scheduler.enterabs(t, 1, myfunc, (scheduler, t))\n",
        "scheduler.run()"
      ],
      "execution_count": null,
      "outputs": []
    }
  ]
}