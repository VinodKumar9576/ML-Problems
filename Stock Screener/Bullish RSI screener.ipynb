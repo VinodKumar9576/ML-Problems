{
  "nbformat": 4,
  "nbformat_minor": 0,
  "metadata": {
    "colab": {
      "name": "Bullish RSI screener.ipynb",
      "provenance": [],
      "collapsed_sections": [
        "UTOMQUyLKhey",
        "dD_Fe8i1H8Tz",
        "RgY52-OiViek",
        "LKv2qlqsyYm_"
      ],
      "toc_visible": true,
      "mount_file_id": "1hXzLrFIDhy3UAwjFLpHMCi5CNNhc3vvv",
      "authorship_tag": "ABX9TyPti9ntF8uY3t3SxE//l2Lk"
    },
    "kernelspec": {
      "name": "python3",
      "display_name": "Python 3"
    },
    "widgets": {
      "application/vnd.jupyter.widget-state+json": {
        "55f392f3ea884d4eab7f162d60495a6f": {
          "model_module": "@jupyter-widgets/controls",
          "model_name": "HBoxModel",
          "state": {
            "_view_name": "HBoxView",
            "_dom_classes": [],
            "_model_name": "HBoxModel",
            "_view_module": "@jupyter-widgets/controls",
            "_model_module_version": "1.5.0",
            "_view_count": null,
            "_view_module_version": "1.5.0",
            "box_style": "",
            "layout": "IPY_MODEL_7ea9f0bd68294cf8a99ca6c27230a305",
            "_model_module": "@jupyter-widgets/controls",
            "children": [
              "IPY_MODEL_8a260b8df3de47c598095b162444e016",
              "IPY_MODEL_9b6bf24276c649beb691b6ec63491211"
            ]
          }
        },
        "7ea9f0bd68294cf8a99ca6c27230a305": {
          "model_module": "@jupyter-widgets/base",
          "model_name": "LayoutModel",
          "state": {
            "_view_name": "LayoutView",
            "grid_template_rows": null,
            "right": null,
            "justify_content": null,
            "_view_module": "@jupyter-widgets/base",
            "overflow": null,
            "_model_module_version": "1.2.0",
            "_view_count": null,
            "flex_flow": null,
            "width": null,
            "min_width": null,
            "border": null,
            "align_items": null,
            "bottom": null,
            "_model_module": "@jupyter-widgets/base",
            "top": null,
            "grid_column": null,
            "overflow_y": null,
            "overflow_x": null,
            "grid_auto_flow": null,
            "grid_area": null,
            "grid_template_columns": null,
            "flex": null,
            "_model_name": "LayoutModel",
            "justify_items": null,
            "grid_row": null,
            "max_height": null,
            "align_content": null,
            "visibility": null,
            "align_self": null,
            "height": null,
            "min_height": null,
            "padding": null,
            "grid_auto_rows": null,
            "grid_gap": null,
            "max_width": null,
            "order": null,
            "_view_module_version": "1.2.0",
            "grid_template_areas": null,
            "object_position": null,
            "object_fit": null,
            "grid_auto_columns": null,
            "margin": null,
            "display": null,
            "left": null
          }
        },
        "8a260b8df3de47c598095b162444e016": {
          "model_module": "@jupyter-widgets/controls",
          "model_name": "FloatProgressModel",
          "state": {
            "_view_name": "ProgressView",
            "style": "IPY_MODEL_e4ba82edfc3a45a8b8e9fa4bacd8aa9b",
            "_dom_classes": [],
            "description": "100%",
            "_model_name": "FloatProgressModel",
            "bar_style": "success",
            "max": 30,
            "_view_module": "@jupyter-widgets/controls",
            "_model_module_version": "1.5.0",
            "value": 30,
            "_view_count": null,
            "_view_module_version": "1.5.0",
            "orientation": "horizontal",
            "min": 0,
            "description_tooltip": null,
            "_model_module": "@jupyter-widgets/controls",
            "layout": "IPY_MODEL_c41e19a9a3ca422e88452111dcbf984c"
          }
        },
        "9b6bf24276c649beb691b6ec63491211": {
          "model_module": "@jupyter-widgets/controls",
          "model_name": "HTMLModel",
          "state": {
            "_view_name": "HTMLView",
            "style": "IPY_MODEL_435f5a19cd4245169b87ca23a5e84c28",
            "_dom_classes": [],
            "description": "",
            "_model_name": "HTMLModel",
            "placeholder": "\u200b",
            "_view_module": "@jupyter-widgets/controls",
            "_model_module_version": "1.5.0",
            "value": " 30/30 [00:05&lt;00:00,  5.47it/s]",
            "_view_count": null,
            "_view_module_version": "1.5.0",
            "description_tooltip": null,
            "_model_module": "@jupyter-widgets/controls",
            "layout": "IPY_MODEL_5290807533c7428c81fe0f534f281091"
          }
        },
        "e4ba82edfc3a45a8b8e9fa4bacd8aa9b": {
          "model_module": "@jupyter-widgets/controls",
          "model_name": "ProgressStyleModel",
          "state": {
            "_view_name": "StyleView",
            "_model_name": "ProgressStyleModel",
            "description_width": "initial",
            "_view_module": "@jupyter-widgets/base",
            "_model_module_version": "1.5.0",
            "_view_count": null,
            "_view_module_version": "1.2.0",
            "bar_color": null,
            "_model_module": "@jupyter-widgets/controls"
          }
        },
        "c41e19a9a3ca422e88452111dcbf984c": {
          "model_module": "@jupyter-widgets/base",
          "model_name": "LayoutModel",
          "state": {
            "_view_name": "LayoutView",
            "grid_template_rows": null,
            "right": null,
            "justify_content": null,
            "_view_module": "@jupyter-widgets/base",
            "overflow": null,
            "_model_module_version": "1.2.0",
            "_view_count": null,
            "flex_flow": null,
            "width": null,
            "min_width": null,
            "border": null,
            "align_items": null,
            "bottom": null,
            "_model_module": "@jupyter-widgets/base",
            "top": null,
            "grid_column": null,
            "overflow_y": null,
            "overflow_x": null,
            "grid_auto_flow": null,
            "grid_area": null,
            "grid_template_columns": null,
            "flex": null,
            "_model_name": "LayoutModel",
            "justify_items": null,
            "grid_row": null,
            "max_height": null,
            "align_content": null,
            "visibility": null,
            "align_self": null,
            "height": null,
            "min_height": null,
            "padding": null,
            "grid_auto_rows": null,
            "grid_gap": null,
            "max_width": null,
            "order": null,
            "_view_module_version": "1.2.0",
            "grid_template_areas": null,
            "object_position": null,
            "object_fit": null,
            "grid_auto_columns": null,
            "margin": null,
            "display": null,
            "left": null
          }
        },
        "435f5a19cd4245169b87ca23a5e84c28": {
          "model_module": "@jupyter-widgets/controls",
          "model_name": "DescriptionStyleModel",
          "state": {
            "_view_name": "StyleView",
            "_model_name": "DescriptionStyleModel",
            "description_width": "",
            "_view_module": "@jupyter-widgets/base",
            "_model_module_version": "1.5.0",
            "_view_count": null,
            "_view_module_version": "1.2.0",
            "_model_module": "@jupyter-widgets/controls"
          }
        },
        "5290807533c7428c81fe0f534f281091": {
          "model_module": "@jupyter-widgets/base",
          "model_name": "LayoutModel",
          "state": {
            "_view_name": "LayoutView",
            "grid_template_rows": null,
            "right": null,
            "justify_content": null,
            "_view_module": "@jupyter-widgets/base",
            "overflow": null,
            "_model_module_version": "1.2.0",
            "_view_count": null,
            "flex_flow": null,
            "width": null,
            "min_width": null,
            "border": null,
            "align_items": null,
            "bottom": null,
            "_model_module": "@jupyter-widgets/base",
            "top": null,
            "grid_column": null,
            "overflow_y": null,
            "overflow_x": null,
            "grid_auto_flow": null,
            "grid_area": null,
            "grid_template_columns": null,
            "flex": null,
            "_model_name": "LayoutModel",
            "justify_items": null,
            "grid_row": null,
            "max_height": null,
            "align_content": null,
            "visibility": null,
            "align_self": null,
            "height": null,
            "min_height": null,
            "padding": null,
            "grid_auto_rows": null,
            "grid_gap": null,
            "max_width": null,
            "order": null,
            "_view_module_version": "1.2.0",
            "grid_template_areas": null,
            "object_position": null,
            "object_fit": null,
            "grid_auto_columns": null,
            "margin": null,
            "display": null,
            "left": null
          }
        }
      }
    }
  },
  "cells": [
    {
      "cell_type": "markdown",
      "metadata": {
        "id": "T86_KNn7MXUv",
        "badge": true,
        "repo_name": "VinodKumar9576/ML-Problems",
        "branch": "master",
        "nb_path": "Stock Screener/Bullish RSI screener.ipynb",
        "comment": "This badge cell was added by colab-badge-action"
      },
      "source": [
        "<a href=\"https://colab.research.google.com/github/VinodKumar9576/ML-Problems/blob/master/Stock Screener/Bullish RSI screener.ipynb\" target=\"_parent\"><img src=\"https://colab.research.google.com/assets/colab-badge.svg\" alt=\"Open In Colab\"/></a>"
      ]
    },
    {
      "cell_type": "code",
      "metadata": {
        "id": "-_ktK0VgWx6-",
        "colab": {
          "base_uri": "https://localhost:8080/"
        },
        "executionInfo": {
          "status": "ok",
          "timestamp": 1606758819515,
          "user_tz": -330,
          "elapsed": 4471,
          "user": {
            "displayName": "ml learning",
            "photoUrl": "https://lh3.googleusercontent.com/a-/AOh14Gi54U31iecMtBQhQx-mLOAQPIRpb8LNaNz7bB7A=s64",
            "userId": "11852164450280049527"
          }
        },
        "outputId": "7eb2d731-e9b2-45f1-fb3b-a9d97d92e953"
      },
      "source": [
        "#!rm -rf '/content/yahoo_finance_api'\n",
        "!git clone https://github.com/VinodKumar9576/yahoo_finance_api.git\n",
        "%cd '/content/yahoo_finance_api/'\n",
        "!python setup.py install\n",
        "\n",
        "from yahoo_finance_api import YahooFinance as yhf"
      ],
      "execution_count": null,
      "outputs": [
        {
          "output_type": "stream",
          "text": [
            "Cloning into 'yahoo_finance_api'...\n",
            "remote: Enumerating objects: 13, done.\u001b[K\n",
            "remote: Total 13 (delta 0), reused 0 (delta 0), pack-reused 13\u001b[K\n",
            "Unpacking objects: 100% (13/13), done.\n",
            "/content/yahoo_finance_api\n",
            "running install\n",
            "running bdist_egg\n",
            "running egg_info\n",
            "creating yahoo_finance_api.egg-info\n",
            "writing yahoo_finance_api.egg-info/PKG-INFO\n",
            "writing dependency_links to yahoo_finance_api.egg-info/dependency_links.txt\n",
            "writing requirements to yahoo_finance_api.egg-info/requires.txt\n",
            "writing top-level names to yahoo_finance_api.egg-info/top_level.txt\n",
            "writing manifest file 'yahoo_finance_api.egg-info/SOURCES.txt'\n",
            "writing manifest file 'yahoo_finance_api.egg-info/SOURCES.txt'\n",
            "installing library code to build/bdist.linux-x86_64/egg\n",
            "running install_lib\n",
            "running build_py\n",
            "creating build\n",
            "creating build/lib\n",
            "creating build/lib/yahoo_finance_api\n",
            "copying yahoo_finance_api/__init__.py -> build/lib/yahoo_finance_api\n",
            "creating build/bdist.linux-x86_64\n",
            "creating build/bdist.linux-x86_64/egg\n",
            "creating build/bdist.linux-x86_64/egg/yahoo_finance_api\n",
            "copying build/lib/yahoo_finance_api/__init__.py -> build/bdist.linux-x86_64/egg/yahoo_finance_api\n",
            "byte-compiling build/bdist.linux-x86_64/egg/yahoo_finance_api/__init__.py to __init__.cpython-36.pyc\n",
            "creating build/bdist.linux-x86_64/egg/EGG-INFO\n",
            "copying yahoo_finance_api.egg-info/PKG-INFO -> build/bdist.linux-x86_64/egg/EGG-INFO\n",
            "copying yahoo_finance_api.egg-info/SOURCES.txt -> build/bdist.linux-x86_64/egg/EGG-INFO\n",
            "copying yahoo_finance_api.egg-info/dependency_links.txt -> build/bdist.linux-x86_64/egg/EGG-INFO\n",
            "copying yahoo_finance_api.egg-info/requires.txt -> build/bdist.linux-x86_64/egg/EGG-INFO\n",
            "copying yahoo_finance_api.egg-info/top_level.txt -> build/bdist.linux-x86_64/egg/EGG-INFO\n",
            "zip_safe flag not set; analyzing archive contents...\n",
            "creating dist\n",
            "creating 'dist/yahoo_finance_api-0.0.1-py3.6.egg' and adding 'build/bdist.linux-x86_64/egg' to it\n",
            "removing 'build/bdist.linux-x86_64/egg' (and everything under it)\n",
            "Processing yahoo_finance_api-0.0.1-py3.6.egg\n",
            "Copying yahoo_finance_api-0.0.1-py3.6.egg to /usr/local/lib/python3.6/dist-packages\n",
            "Adding yahoo-finance-api 0.0.1 to easy-install.pth file\n",
            "\n",
            "Installed /usr/local/lib/python3.6/dist-packages/yahoo_finance_api-0.0.1-py3.6.egg\n",
            "Processing dependencies for yahoo-finance-api==0.0.1\n",
            "Searching for requests==2.23.0\n",
            "Best match: requests 2.23.0\n",
            "Adding requests 2.23.0 to easy-install.pth file\n",
            "\n",
            "Using /usr/local/lib/python3.6/dist-packages\n",
            "Searching for pandas==1.1.4\n",
            "Best match: pandas 1.1.4\n",
            "Adding pandas 1.1.4 to easy-install.pth file\n",
            "\n",
            "Using /usr/local/lib/python3.6/dist-packages\n",
            "Searching for certifi==2020.11.8\n",
            "Best match: certifi 2020.11.8\n",
            "Adding certifi 2020.11.8 to easy-install.pth file\n",
            "\n",
            "Using /usr/local/lib/python3.6/dist-packages\n",
            "Searching for idna==2.10\n",
            "Best match: idna 2.10\n",
            "Adding idna 2.10 to easy-install.pth file\n",
            "\n",
            "Using /usr/local/lib/python3.6/dist-packages\n",
            "Searching for chardet==3.0.4\n",
            "Best match: chardet 3.0.4\n",
            "Adding chardet 3.0.4 to easy-install.pth file\n",
            "Installing chardetect script to /usr/local/bin\n",
            "\n",
            "Using /usr/local/lib/python3.6/dist-packages\n",
            "Searching for urllib3==1.24.3\n",
            "Best match: urllib3 1.24.3\n",
            "Adding urllib3 1.24.3 to easy-install.pth file\n",
            "\n",
            "Using /usr/local/lib/python3.6/dist-packages\n",
            "Searching for pytz==2018.9\n",
            "Best match: pytz 2018.9\n",
            "Adding pytz 2018.9 to easy-install.pth file\n",
            "\n",
            "Using /usr/local/lib/python3.6/dist-packages\n",
            "Searching for numpy==1.18.5\n",
            "Best match: numpy 1.18.5\n",
            "Adding numpy 1.18.5 to easy-install.pth file\n",
            "Installing f2py script to /usr/local/bin\n",
            "Installing f2py3 script to /usr/local/bin\n",
            "Installing f2py3.6 script to /usr/local/bin\n",
            "\n",
            "Using /usr/local/lib/python3.6/dist-packages\n",
            "Searching for python-dateutil==2.8.1\n",
            "Best match: python-dateutil 2.8.1\n",
            "Adding python-dateutil 2.8.1 to easy-install.pth file\n",
            "\n",
            "Using /usr/local/lib/python3.6/dist-packages\n",
            "Searching for six==1.15.0\n",
            "Best match: six 1.15.0\n",
            "Adding six 1.15.0 to easy-install.pth file\n",
            "\n",
            "Using /usr/local/lib/python3.6/dist-packages\n",
            "Finished processing dependencies for yahoo-finance-api==0.0.1\n"
          ],
          "name": "stdout"
        }
      ]
    },
    {
      "cell_type": "code",
      "metadata": {
        "id": "-oMUrQZEA6vx"
      },
      "source": [
        "!wget http://prdownloads.sourceforge.net/ta-lib/ta-lib-0.4.0-src.tar.gz\n",
        "!tar -xzvf ta-lib-0.4.0-src.tar.gz\n",
        "%cd ta-lib\n",
        "!./configure --prefix=/usr\n",
        "!make\n",
        "!make install\n",
        "!pip install Ta-Lib\n",
        "\n",
        "import talib as ta"
      ],
      "execution_count": null,
      "outputs": []
    },
    {
      "cell_type": "code",
      "metadata": {
        "colab": {
          "base_uri": "https://localhost:8080/"
        },
        "id": "G45DuXTZ502r",
        "executionInfo": {
          "status": "ok",
          "timestamp": 1606744076157,
          "user_tz": -330,
          "elapsed": 23842,
          "user": {
            "displayName": "ml learning",
            "photoUrl": "https://lh3.googleusercontent.com/a-/AOh14Gi54U31iecMtBQhQx-mLOAQPIRpb8LNaNz7bB7A=s64",
            "userId": "11852164450280049527"
          }
        },
        "outputId": "65203229-5490-48ef-82cf-7d0cf0a5acaf"
      },
      "source": [
        "!pip install p_tqdm"
      ],
      "execution_count": null,
      "outputs": [
        {
          "output_type": "stream",
          "text": [
            "Collecting p_tqdm\n",
            "  Downloading https://files.pythonhosted.org/packages/b9/c4/ce6abe2fa3868b1ea9216a81522a9ece36f47bdbb966f8f31f76e2967178/p_tqdm-1.3.3.tar.gz\n",
            "Requirement already satisfied: tqdm in /usr/local/lib/python3.6/dist-packages (from p_tqdm) (4.41.1)\n",
            "Collecting pathos\n",
            "\u001b[?25l  Downloading https://files.pythonhosted.org/packages/10/9e/0100b1d500851fc8e093da5463ca38e013c86ea0855e7c510ca0d3e1f7c1/pathos-0.2.7-py2.py3-none-any.whl (81kB)\n",
            "\u001b[K     |\u2588\u2588\u2588\u2588\u2588\u2588\u2588\u2588\u2588\u2588\u2588\u2588\u2588\u2588\u2588\u2588\u2588\u2588\u2588\u2588\u2588\u2588\u2588\u2588\u2588\u2588\u2588\u2588\u2588\u2588\u2588\u2588| 81kB 3.8MB/s \n",
            "\u001b[?25hRequirement already satisfied: six in /usr/local/lib/python3.6/dist-packages (from p_tqdm) (1.15.0)\n",
            "Requirement already satisfied: multiprocess>=0.70.11 in /usr/local/lib/python3.6/dist-packages (from pathos->p_tqdm) (0.70.11.1)\n",
            "Collecting ppft>=1.6.6.3\n",
            "\u001b[?25l  Downloading https://files.pythonhosted.org/packages/51/7b/e63dcf1f9b5ecd37691ee8a7029f71ddb7cafab780a60e312d913afc0f29/ppft-1.6.6.3-py3-none-any.whl (65kB)\n",
            "\u001b[K     |\u2588\u2588\u2588\u2588\u2588\u2588\u2588\u2588\u2588\u2588\u2588\u2588\u2588\u2588\u2588\u2588\u2588\u2588\u2588\u2588\u2588\u2588\u2588\u2588\u2588\u2588\u2588\u2588\u2588\u2588\u2588\u2588| 71kB 7.8MB/s \n",
            "\u001b[?25hCollecting pox>=0.2.9\n",
            "  Downloading https://files.pythonhosted.org/packages/6b/06/600e1b1103336ce94cf01e63a6c7b134f0edccf59bbf99189c975e2f257e/pox-0.2.9-py2.py3-none-any.whl\n",
            "Requirement already satisfied: dill>=0.3.3 in /usr/local/lib/python3.6/dist-packages (from pathos->p_tqdm) (0.3.3)\n",
            "Building wheels for collected packages: p-tqdm\n",
            "  Building wheel for p-tqdm (setup.py) ... \u001b[?25l\u001b[?25hdone\n",
            "  Created wheel for p-tqdm: filename=p_tqdm-1.3.3-cp36-none-any.whl size=3988 sha256=c122c9778ad272508b8de2749ebcdb557803df989850ed16f46ecddfab710f48\n",
            "  Stored in directory: /root/.cache/pip/wheels/72/26/f7/18d7dcd10ebd3f81fab3f52e07c61b5771cd21c29f69c7a0e9\n",
            "Successfully built p-tqdm\n",
            "Installing collected packages: ppft, pox, pathos, p-tqdm\n",
            "Successfully installed p-tqdm-1.3.3 pathos-0.2.7 pox-0.2.9 ppft-1.6.6.3\n"
          ],
          "name": "stdout"
        }
      ]
    },
    {
      "cell_type": "code",
      "metadata": {
        "colab": {
          "base_uri": "https://localhost:8080/"
        },
        "id": "YmXZ13RXyiYO",
        "executionInfo": {
          "status": "ok",
          "timestamp": 1606744071588,
          "user_tz": -330,
          "elapsed": 21303,
          "user": {
            "displayName": "ml learning",
            "photoUrl": "https://lh3.googleusercontent.com/a-/AOh14Gi54U31iecMtBQhQx-mLOAQPIRpb8LNaNz7bB7A=s64",
            "userId": "11852164450280049527"
          }
        },
        "outputId": "6de96796-403a-4751-86e2-af25643aed6b"
      },
      "source": [
        "!pip install fastparquet"
      ],
      "execution_count": null,
      "outputs": [
        {
          "output_type": "stream",
          "text": [
            "Collecting fastparquet\n",
            "\u001b[?25l  Downloading https://files.pythonhosted.org/packages/28/b9/844e32d0e3739e5695057dff3a3b9f4abc0fcccff466fdaadb8fedb0ee1d/fastparquet-0.4.1.tar.gz (28.6MB)\n",
            "\u001b[K     |\u2588\u2588\u2588\u2588\u2588\u2588\u2588\u2588\u2588\u2588\u2588\u2588\u2588\u2588\u2588\u2588\u2588\u2588\u2588\u2588\u2588\u2588\u2588\u2588\u2588\u2588\u2588\u2588\u2588\u2588\u2588\u2588| 28.6MB 158kB/s \n",
            "\u001b[?25hRequirement already satisfied: pandas>=0.19 in /usr/local/lib/python3.6/dist-packages (from fastparquet) (1.1.4)\n",
            "Requirement already satisfied: numba>=0.28 in /usr/local/lib/python3.6/dist-packages (from fastparquet) (0.48.0)\n",
            "Requirement already satisfied: numpy>=1.11 in /usr/local/lib/python3.6/dist-packages (from fastparquet) (1.18.5)\n",
            "Requirement already satisfied: packaging in /usr/local/lib/python3.6/dist-packages (from fastparquet) (20.4)\n",
            "Collecting thrift>=0.11.0\n",
            "\u001b[?25l  Downloading https://files.pythonhosted.org/packages/97/1e/3284d19d7be99305eda145b8aa46b0c33244e4a496ec66440dac19f8274d/thrift-0.13.0.tar.gz (59kB)\n",
            "\u001b[K     |\u2588\u2588\u2588\u2588\u2588\u2588\u2588\u2588\u2588\u2588\u2588\u2588\u2588\u2588\u2588\u2588\u2588\u2588\u2588\u2588\u2588\u2588\u2588\u2588\u2588\u2588\u2588\u2588\u2588\u2588\u2588\u2588| 61kB 7.7MB/s \n",
            "\u001b[?25hRequirement already satisfied: six in /usr/local/lib/python3.6/dist-packages (from fastparquet) (1.15.0)\n",
            "Requirement already satisfied: python-dateutil>=2.7.3 in /usr/local/lib/python3.6/dist-packages (from pandas>=0.19->fastparquet) (2.8.1)\n",
            "Requirement already satisfied: pytz>=2017.2 in /usr/local/lib/python3.6/dist-packages (from pandas>=0.19->fastparquet) (2018.9)\n",
            "Requirement already satisfied: setuptools in /usr/local/lib/python3.6/dist-packages (from numba>=0.28->fastparquet) (50.3.2)\n",
            "Requirement already satisfied: llvmlite<0.32.0,>=0.31.0dev0 in /usr/local/lib/python3.6/dist-packages (from numba>=0.28->fastparquet) (0.31.0)\n",
            "Requirement already satisfied: pyparsing>=2.0.2 in /usr/local/lib/python3.6/dist-packages (from packaging->fastparquet) (2.4.7)\n",
            "Building wheels for collected packages: fastparquet, thrift\n",
            "  Building wheel for fastparquet (setup.py) ... \u001b[?25l\u001b[?25hdone\n",
            "  Created wheel for fastparquet: filename=fastparquet-0.4.1-cp36-cp36m-linux_x86_64.whl size=7125492 sha256=6dd7b9bb56bfe8b09261c07a8f583f2daef79ca1c19bfaf849db67d1f3fed8b8\n",
            "  Stored in directory: /root/.cache/pip/wheels/10/45/cf/492ccb908adde1dd2551bb509a56e4096cce9487167f525120\n",
            "  Building wheel for thrift (setup.py) ... \u001b[?25l\u001b[?25hdone\n",
            "  Created wheel for thrift: filename=thrift-0.13.0-cp36-cp36m-linux_x86_64.whl size=345213 sha256=de4e46c45076a16f282c9a8721e72bc340783e4dd9590f32db854e3471900dce\n",
            "  Stored in directory: /root/.cache/pip/wheels/02/a2/46/689ccfcf40155c23edc7cdbd9de488611c8fdf49ff34b1706e\n",
            "Successfully built fastparquet thrift\n",
            "Installing collected packages: thrift, fastparquet\n",
            "Successfully installed fastparquet-0.4.1 thrift-0.13.0\n"
          ],
          "name": "stdout"
        }
      ]
    },
    {
      "cell_type": "code",
      "metadata": {
        "id": "KDDFuafuLCPA"
      },
      "source": [
        "import datetime as dt\n",
        "import pandas as pd\n",
        "import numpy as np\n",
        "from pandas_datareader import data as pdr\n",
        "#import yfinance as yf\n",
        "from tkinter import Tk\n",
        "from tkinter.filedialog import askopenfilename\n",
        "import os\n",
        "from pandas import ExcelWriter\n",
        "import fastparquet\n",
        "from p_tqdm import p_map\n",
        "import functools\n",
        "import time"
      ],
      "execution_count": null,
      "outputs": []
    },
    {
      "cell_type": "code",
      "metadata": {
        "id": "72l3waXsUsrw"
      },
      "source": [
        "file_path = '/content/drive/MyDrive/Finance work/Equity.csv'\n",
        "\n",
        "stock_dtls = pd.read_csv(file_path)\n",
        "stock_dtls.drop(columns=['Issuer Name'], inplace = True)"
      ],
      "execution_count": null,
      "outputs": []
    },
    {
      "cell_type": "code",
      "metadata": {
        "colab": {
          "base_uri": "https://localhost:8080/",
          "height": 293
        },
        "id": "bkabwGmPVZTS",
        "executionInfo": {
          "status": "ok",
          "timestamp": 1606619996100,
          "user_tz": -330,
          "elapsed": 1737,
          "user": {
            "displayName": "ml learning",
            "photoUrl": "https://lh3.googleusercontent.com/a-/AOh14Gi54U31iecMtBQhQx-mLOAQPIRpb8LNaNz7bB7A=s64",
            "userId": "11852164450280049527"
          }
        },
        "outputId": "4dfc80c8-beb2-4304-c028-ad352115b0af"
      },
      "source": [
        "stock_dtls.head()"
      ],
      "execution_count": null,
      "outputs": [
        {
          "output_type": "execute_result",
          "data": {
            "text/html": [
              "<div>\n",
              "<style scoped>\n",
              "    .dataframe tbody tr th:only-of-type {\n",
              "        vertical-align: middle;\n",
              "    }\n",
              "\n",
              "    .dataframe tbody tr th {\n",
              "        vertical-align: top;\n",
              "    }\n",
              "\n",
              "    .dataframe thead th {\n",
              "        text-align: right;\n",
              "    }\n",
              "</style>\n",
              "<table border=\"1\" class=\"dataframe\">\n",
              "  <thead>\n",
              "    <tr style=\"text-align: right;\">\n",
              "      <th></th>\n",
              "      <th>Security Code</th>\n",
              "      <th>Security Id</th>\n",
              "      <th>Security Name</th>\n",
              "      <th>Status</th>\n",
              "      <th>Group</th>\n",
              "      <th>Face Value</th>\n",
              "      <th>ISIN No</th>\n",
              "      <th>Industry</th>\n",
              "      <th>Instrument</th>\n",
              "    </tr>\n",
              "  </thead>\n",
              "  <tbody>\n",
              "    <tr>\n",
              "      <th>0</th>\n",
              "      <td>500002</td>\n",
              "      <td>ABB</td>\n",
              "      <td>ABB India Limited</td>\n",
              "      <td>Active</td>\n",
              "      <td>B</td>\n",
              "      <td>2.0</td>\n",
              "      <td>INE117A01022</td>\n",
              "      <td>Heavy Electrical Equipment</td>\n",
              "      <td>Equity</td>\n",
              "    </tr>\n",
              "    <tr>\n",
              "      <th>1</th>\n",
              "      <td>500003</td>\n",
              "      <td>AEGISLOG</td>\n",
              "      <td>AEGIS LOGISTICS LTD.</td>\n",
              "      <td>Active</td>\n",
              "      <td>A</td>\n",
              "      <td>1.0</td>\n",
              "      <td>INE208C01025</td>\n",
              "      <td>Oil Marketing &amp; Distribution</td>\n",
              "      <td>Equity</td>\n",
              "    </tr>\n",
              "    <tr>\n",
              "      <th>2</th>\n",
              "      <td>500008</td>\n",
              "      <td>AMARAJABAT</td>\n",
              "      <td>AMARA RAJA BATTERIES LTD.</td>\n",
              "      <td>Active</td>\n",
              "      <td>A</td>\n",
              "      <td>1.0</td>\n",
              "      <td>INE885A01032</td>\n",
              "      <td>Auto Parts &amp; Equipment</td>\n",
              "      <td>Equity</td>\n",
              "    </tr>\n",
              "    <tr>\n",
              "      <th>3</th>\n",
              "      <td>500009</td>\n",
              "      <td>AMBALALSA</td>\n",
              "      <td>AMBALAL SARABHAI ENTERPRISES LTD.</td>\n",
              "      <td>Active</td>\n",
              "      <td>X</td>\n",
              "      <td>10.0</td>\n",
              "      <td>INE432A01017</td>\n",
              "      <td>Pharmaceuticals</td>\n",
              "      <td>Equity</td>\n",
              "    </tr>\n",
              "    <tr>\n",
              "      <th>4</th>\n",
              "      <td>500010</td>\n",
              "      <td>HDFC</td>\n",
              "      <td>HOUSING DEVELOPMENT FINANCE CORP.LTD.</td>\n",
              "      <td>Active</td>\n",
              "      <td>A</td>\n",
              "      <td>2.0</td>\n",
              "      <td>INE001A01036</td>\n",
              "      <td>Housing Finance</td>\n",
              "      <td>Equity</td>\n",
              "    </tr>\n",
              "  </tbody>\n",
              "</table>\n",
              "</div>"
            ],
            "text/plain": [
              "   Security Code Security Id  ...                      Industry Instrument\n",
              "0         500002         ABB  ...    Heavy Electrical Equipment     Equity\n",
              "1         500003    AEGISLOG  ...  Oil Marketing & Distribution     Equity\n",
              "2         500008  AMARAJABAT  ...        Auto Parts & Equipment     Equity\n",
              "3         500009   AMBALALSA  ...               Pharmaceuticals     Equity\n",
              "4         500010        HDFC  ...              Housing Finance      Equity\n",
              "\n",
              "[5 rows x 9 columns]"
            ]
          },
          "metadata": {
            "tags": []
          },
          "execution_count": 6
        }
      ]
    },
    {
      "cell_type": "markdown",
      "metadata": {
        "id": "UTOMQUyLKhey"
      },
      "source": [
        "#Making Final Dataframe"
      ]
    },
    {
      "cell_type": "code",
      "metadata": {
        "colab": {
          "base_uri": "https://localhost:8080/",
          "height": 206
        },
        "id": "_yPIh1BBUvFc",
        "executionInfo": {
          "status": "ok",
          "timestamp": 1606620311346,
          "user_tz": -330,
          "elapsed": 1752,
          "user": {
            "displayName": "ml learning",
            "photoUrl": "https://lh3.googleusercontent.com/a-/AOh14Gi54U31iecMtBQhQx-mLOAQPIRpb8LNaNz7bB7A=s64",
            "userId": "11852164450280049527"
          }
        },
        "outputId": "3bb540ab-abf5-4cc9-c90d-2ef9d75dc7d5"
      },
      "source": [
        "ticks_df.head()"
      ],
      "execution_count": null,
      "outputs": [
        {
          "output_type": "execute_result",
          "data": {
            "text/html": [
              "<div>\n",
              "<style scoped>\n",
              "    .dataframe tbody tr th:only-of-type {\n",
              "        vertical-align: middle;\n",
              "    }\n",
              "\n",
              "    .dataframe tbody tr th {\n",
              "        vertical-align: top;\n",
              "    }\n",
              "\n",
              "    .dataframe thead th {\n",
              "        text-align: right;\n",
              "    }\n",
              "</style>\n",
              "<table border=\"1\" class=\"dataframe\">\n",
              "  <thead>\n",
              "    <tr style=\"text-align: right;\">\n",
              "      <th></th>\n",
              "      <th>Symbol</th>\n",
              "      <th>Close</th>\n",
              "      <th>Volume</th>\n",
              "      <th>ADX</th>\n",
              "      <th>MO_RSI</th>\n",
              "      <th>WK_RSI</th>\n",
              "      <th>Day_RSI</th>\n",
              "      <th>Day_SMA</th>\n",
              "      <th>MACDHIST_LA</th>\n",
              "      <th>MACDHIST_PREV</th>\n",
              "    </tr>\n",
              "  </thead>\n",
              "  <tbody>\n",
              "    <tr>\n",
              "      <th>0</th>\n",
              "      <td>ABB</td>\n",
              "      <td>1073.75</td>\n",
              "      <td>253387.0</td>\n",
              "      <td>53.113613</td>\n",
              "      <td>35.950790</td>\n",
              "      <td>58.924013</td>\n",
              "      <td>65.549199</td>\n",
              "      <td>922.950</td>\n",
              "      <td>8.451418</td>\n",
              "      <td>10.341018</td>\n",
              "    </tr>\n",
              "    <tr>\n",
              "      <th>1</th>\n",
              "      <td>ATUL</td>\n",
              "      <td>6310.35</td>\n",
              "      <td>25992.0</td>\n",
              "      <td>23.416280</td>\n",
              "      <td>67.326145</td>\n",
              "      <td>60.253643</td>\n",
              "      <td>58.178202</td>\n",
              "      <td>6152.934</td>\n",
              "      <td>-25.404870</td>\n",
              "      <td>-27.301939</td>\n",
              "    </tr>\n",
              "    <tr>\n",
              "      <th>2</th>\n",
              "      <td>FORCEMOT</td>\n",
              "      <td>1161.80</td>\n",
              "      <td>25553.0</td>\n",
              "      <td>50.205166</td>\n",
              "      <td>52.146376</td>\n",
              "      <td>55.600719</td>\n",
              "      <td>72.787611</td>\n",
              "      <td>1069.768</td>\n",
              "      <td>9.450683</td>\n",
              "      <td>11.399812</td>\n",
              "    </tr>\n",
              "    <tr>\n",
              "      <th>3</th>\n",
              "      <td>BANARISUG</td>\n",
              "      <td>1346.05</td>\n",
              "      <td>2951.0</td>\n",
              "      <td>85.597464</td>\n",
              "      <td>56.909467</td>\n",
              "      <td>58.807805</td>\n",
              "      <td>72.678186</td>\n",
              "      <td>1305.117</td>\n",
              "      <td>4.335000</td>\n",
              "      <td>2.875301</td>\n",
              "    </tr>\n",
              "    <tr>\n",
              "      <th>4</th>\n",
              "      <td>BASF</td>\n",
              "      <td>1656.15</td>\n",
              "      <td>80255.0</td>\n",
              "      <td>41.337999</td>\n",
              "      <td>72.908982</td>\n",
              "      <td>51.874806</td>\n",
              "      <td>76.057449</td>\n",
              "      <td>1464.724</td>\n",
              "      <td>21.066951</td>\n",
              "      <td>20.151214</td>\n",
              "    </tr>\n",
              "  </tbody>\n",
              "</table>\n",
              "</div>"
            ],
            "text/plain": [
              "      Symbol    Close    Volume  ...   Day_SMA  MACDHIST_LA  MACDHIST_PREV\n",
              "0        ABB  1073.75  253387.0  ...   922.950     8.451418      10.341018\n",
              "1       ATUL  6310.35   25992.0  ...  6152.934   -25.404870     -27.301939\n",
              "2   FORCEMOT  1161.80   25553.0  ...  1069.768     9.450683      11.399812\n",
              "3  BANARISUG  1346.05    2951.0  ...  1305.117     4.335000       2.875301\n",
              "4       BASF  1656.15   80255.0  ...  1464.724    21.066951      20.151214\n",
              "\n",
              "[5 rows x 10 columns]"
            ]
          },
          "metadata": {
            "tags": []
          },
          "execution_count": 48
        }
      ]
    },
    {
      "cell_type": "code",
      "metadata": {
        "id": "fAdb1ZLtZ6S3"
      },
      "source": [
        "def BULLISH_RSI(sym ,vol, close, adx, mo_rsi, wk_rsi, dy_rsi, sma, macd_curr, macd_prev):\n",
        "  if(adx>30 and\n",
        "     (close >= sma) and\n",
        "     (macd_curr >= macd_prev) and\n",
        "     (mo_rsi >70 or wk_rsi >70 or dy_rsi >70)):\n",
        "    return dict({sym:[close, vol, dy_rsi]})"
      ],
      "execution_count": null,
      "outputs": []
    },
    {
      "cell_type": "code",
      "metadata": {
        "id": "B9Ue8qHsDaeB"
      },
      "source": [
        "tick_dict = list(ticks_df.apply(lambda x : BULLISH_RSI(x['Symbol'], x['Close'], x['Volume'], x['ADX'], x['MO_RSI'], x['WK_RSI'], x['Day_RSI'], x['Day_SMA'], x['MACDHIST_LA'], x['MACDHIST_PREV']),\n",
        "               axis = 1))\n",
        "tick_dict = [x for x in tick_dict if x is not None]"
      ],
      "execution_count": null,
      "outputs": []
    },
    {
      "cell_type": "code",
      "metadata": {
        "colab": {
          "base_uri": "https://localhost:8080/"
        },
        "id": "G9YqlqJaHnwS",
        "executionInfo": {
          "status": "ok",
          "timestamp": 1606625966019,
          "user_tz": -330,
          "elapsed": 1366,
          "user": {
            "displayName": "ml learning",
            "photoUrl": "https://lh3.googleusercontent.com/a-/AOh14Gi54U31iecMtBQhQx-mLOAQPIRpb8LNaNz7bB7A=s64",
            "userId": "11852164450280049527"
          }
        },
        "outputId": "fe35cd98-7ca2-4170-d78c-882ee592766c"
      },
      "source": [
        "tick_dict"
      ],
      "execution_count": null,
      "outputs": [
        {
          "output_type": "execute_result",
          "data": {
            "text/plain": [
              "[{'BANARISUG': [2951.0, 1346.05, 72.67818574514041]},\n",
              " {'BASF': [80255.0, 1656.15, 76.05744949494951]},\n",
              " {'BLUESTARCO': [480402.0, 811.85, 83.34056399132321]},\n",
              " {'OAL': [30909.0, 516.85, 63.23656223052602]},\n",
              " {'PGHL': [70272.0, 6868.1, 88.1206541964548]}]"
            ]
          },
          "metadata": {
            "tags": []
          },
          "execution_count": 110
        }
      ]
    },
    {
      "cell_type": "code",
      "metadata": {
        "id": "-YzDBWwqKHB7"
      },
      "source": [
        "['BANARISUG', 'BASF', 'BLUESTARCO', 'OAL', 'PGHL']"
      ],
      "execution_count": null,
      "outputs": []
    },
    {
      "cell_type": "markdown",
      "metadata": {
        "id": "dD_Fe8i1H8Tz"
      },
      "source": [
        "#Sending Alerts to email"
      ]
    },
    {
      "cell_type": "code",
      "metadata": {
        "id": "pEIKlhWbH9eH"
      },
      "source": [
        "import os\n",
        "import smtplib\n",
        "import imghdr\n",
        "from email.message import EmailMessage\n",
        "\n",
        "import datetime as dt\n",
        "import pandas as pd\n",
        "from pandas_datareader import data as pdr\n",
        "import time\n",
        "\n",
        "EMAIL_ADDRESS = 'vinodkumar9576@gmail.com'\n",
        "EMAIL_PASSWORD = 'anshumnan%9576'\n",
        "\n",
        "msg = EmailMessage()\n",
        "\n",
        "stock=\"QQQ\"\n",
        "TargetPrice=180\n",
        "\n",
        "msg['Subject'] = 'Alert on ' + 'test' + '!'\n",
        "msg['From'] = EMAIL_ADDRESS\n",
        "msg['To'] = 'ml.learning.2020@gmail.com'\n",
        "\n",
        "message = 'Hi'\n",
        "msg.set_content(message)\n",
        "\n",
        "with smtplib.SMTP_SSL('smtp.gmail.com', 465) as smtp:\n",
        "  smtp.login(EMAIL_ADDRESS, EMAIL_PASSWORD)\n",
        "  smtp.send_message(msg)"
      ],
      "execution_count": null,
      "outputs": []
    },
    {
      "cell_type": "markdown",
      "metadata": {
        "id": "RgY52-OiViek"
      },
      "source": [
        "#Sending alerts to Telegram"
      ]
    },
    {
      "cell_type": "code",
      "metadata": {
        "id": "6mcRSPO2VmUv"
      },
      "source": [
        "!pip install telegram-send"
      ],
      "execution_count": null,
      "outputs": []
    },
    {
      "cell_type": "code",
      "metadata": {
        "id": "tfD-MiuIWH1B"
      },
      "source": [
        "!telegram-send --configure"
      ],
      "execution_count": null,
      "outputs": []
    },
    {
      "cell_type": "code",
      "metadata": {
        "id": "3ZQeVekfWa4L"
      },
      "source": [
        "import telegram_send"
      ],
      "execution_count": null,
      "outputs": []
    },
    {
      "cell_type": "code",
      "metadata": {
        "id": "7ZS12252lBTh"
      },
      "source": [
        "end_message = [\"Thats it for Now!!\"]"
      ],
      "execution_count": null,
      "outputs": []
    },
    {
      "cell_type": "code",
      "metadata": {
        "id": "v8gXIzp2W1SK",
        "colab": {
          "base_uri": "https://localhost:8080/",
          "height": 227
        },
        "executionInfo": {
          "status": "error",
          "timestamp": 1606758218032,
          "user_tz": -330,
          "elapsed": 2128,
          "user": {
            "displayName": "ml learning",
            "photoUrl": "https://lh3.googleusercontent.com/a-/AOh14Gi54U31iecMtBQhQx-mLOAQPIRpb8LNaNz7bB7A=s64",
            "userId": "11852164450280049527"
          }
        },
        "outputId": "1db5bcc1-e337-4b55-8261-e29bb6404c1a"
      },
      "source": [
        "#telegram_send.send(messages = tex)\n",
        "telegram_send.send(messages = end_message)"
      ],
      "execution_count": null,
      "outputs": [
        {
          "output_type": "error",
          "ename": "NameError",
          "evalue": "ignored",
          "traceback": [
            "\u001b[0;31m---------------------------------------------------------------------------\u001b[0m",
            "\u001b[0;31mNameError\u001b[0m                                 Traceback (most recent call last)",
            "\u001b[0;32m<ipython-input-2-a9dc7972b19a>\u001b[0m in \u001b[0;36m<module>\u001b[0;34m()\u001b[0m\n\u001b[1;32m      1\u001b[0m \u001b[0;31m#telegram_send.send(messages = tex)\u001b[0m\u001b[0;34m\u001b[0m\u001b[0;34m\u001b[0m\u001b[0;34m\u001b[0m\u001b[0m\n\u001b[0;32m----> 2\u001b[0;31m \u001b[0mtelegram_send\u001b[0m\u001b[0;34m.\u001b[0m\u001b[0msend\u001b[0m\u001b[0;34m(\u001b[0m\u001b[0mmessages\u001b[0m \u001b[0;34m=\u001b[0m \u001b[0mend_message\u001b[0m\u001b[0;34m)\u001b[0m\u001b[0;34m\u001b[0m\u001b[0;34m\u001b[0m\u001b[0m\n\u001b[0m",
            "\u001b[0;31mNameError\u001b[0m: name 'telegram_send' is not defined"
          ]
        }
      ]
    },
    {
      "cell_type": "code",
      "metadata": {
        "colab": {
          "base_uri": "https://localhost:8080/"
        },
        "id": "2V1XhdINfpt3",
        "executionInfo": {
          "status": "ok",
          "timestamp": 1606629562548,
          "user_tz": -330,
          "elapsed": 1162,
          "user": {
            "displayName": "ml learning",
            "photoUrl": "https://lh3.googleusercontent.com/a-/AOh14Gi54U31iecMtBQhQx-mLOAQPIRpb8LNaNz7bB7A=s64",
            "userId": "11852164450280049527"
          }
        },
        "outputId": "7bea4f6d-5e68-4e4b-999c-ee2cab271fcd"
      },
      "source": [
        "tick_dict"
      ],
      "execution_count": null,
      "outputs": [
        {
          "output_type": "execute_result",
          "data": {
            "text/plain": [
              "[{'BANARISUG': [2951.0, 1346.05, 72.67818574514041]},\n",
              " {'BASF': [80255.0, 1656.15, 76.05744949494951]},\n",
              " {'BLUESTARCO': [480402.0, 811.85, 83.34056399132321]},\n",
              " {'OAL': [30909.0, 516.85, 63.23656223052602]},\n",
              " {'PGHL': [70272.0, 6868.1, 88.1206541964548]}]"
            ]
          },
          "metadata": {
            "tags": []
          },
          "execution_count": 157
        }
      ]
    },
    {
      "cell_type": "code",
      "metadata": {
        "id": "je0oCvtql6sK"
      },
      "source": [
        "tt = [str(x) for x in tick_dict]"
      ],
      "execution_count": null,
      "outputs": []
    },
    {
      "cell_type": "code",
      "metadata": {
        "id": "ENKAUgc8lZOr"
      },
      "source": [
        "tex = ['---'.join(tt)]"
      ],
      "execution_count": null,
      "outputs": []
    },
    {
      "cell_type": "code",
      "metadata": {
        "colab": {
          "base_uri": "https://localhost:8080/"
        },
        "id": "QB2T--D3lt8n",
        "executionInfo": {
          "status": "ok",
          "timestamp": 1606629808700,
          "user_tz": -330,
          "elapsed": 1640,
          "user": {
            "displayName": "ml learning",
            "photoUrl": "https://lh3.googleusercontent.com/a-/AOh14Gi54U31iecMtBQhQx-mLOAQPIRpb8LNaNz7bB7A=s64",
            "userId": "11852164450280049527"
          }
        },
        "outputId": "90d98d0d-94a9-4279-aa23-90000d7a9167"
      },
      "source": [
        "tex"
      ],
      "execution_count": null,
      "outputs": [
        {
          "output_type": "execute_result",
          "data": {
            "text/plain": [
              "[\"{'BANARISUG': [2951.0, 1346.05, 72.67818574514041]}---{'BASF': [80255.0, 1656.15, 76.05744949494951]}---{'BLUESTARCO': [480402.0, 811.85, 83.34056399132321]}---{'OAL': [30909.0, 516.85, 63.23656223052602]}---{'PGHL': [70272.0, 6868.1, 88.1206541964548]}\"]"
            ]
          },
          "metadata": {
            "tags": []
          },
          "execution_count": 170
        }
      ]
    },
    {
      "cell_type": "markdown",
      "metadata": {
        "id": "Bg6FM9sHxmpr"
      },
      "source": [
        "#Retrieving Data for Stock Symbols"
      ]
    },
    {
      "cell_type": "markdown",
      "metadata": {
        "id": "LKv2qlqsyYm_"
      },
      "source": [
        "##Retrieving 55 days intraday data of all symbols"
      ]
    },
    {
      "cell_type": "markdown",
      "metadata": {
        "id": "4eSbqo59ye-b"
      },
      "source": [
        "* This (55 day) will suffice in calculating MACD, SMA, ADX & intraday RSI.\n",
        "* For weekly RSI we gather 14 wk data, for monthly RSI - 14 mo data.\n",
        "* In this way for each symbol:\n",
        "  * 1DTF - 55 rows\n",
        "  * 1WkTF - 14 rows\n",
        "  * 1MoTF - 14 rows"
      ]
    },
    {
      "cell_type": "markdown",
      "metadata": {
        "id": "q7kr-i0zA2EF"
      },
      "source": [
        "* We are going to share the data in hdf5 file where each group acts as TFs and each dataframe in respect to each symbol will be stored under respective groups.\n",
        "\n",
        "<br>\n",
        "\n",
        "* We create 3 groups named DTF, WKTF, MOTF.\n",
        "* Each key under the group to be data frame of each symbol "
      ]
    },
    {
      "cell_type": "code",
      "metadata": {
        "id": "LTCByi6MxrN9"
      },
      "source": [
        "ticks_300 = pd.read_parquet('/content/drive/My Drive/Finance work/Stock Screener/Ticks_300.parquet.gzip', engine = 'fastparquet')\n",
        "ticks_200_vol = pd.read_parquet('/content/drive/My Drive/Finance work/Stock Screener/Ticks_200_500K.parquet.gzip', engine = 'fastparquet')"
      ],
      "execution_count": null,
      "outputs": []
    },
    {
      "cell_type": "code",
      "metadata": {
        "colab": {
          "base_uri": "https://localhost:8080/"
        },
        "id": "hZDQja0ho2VA",
        "executionInfo": {
          "status": "ok",
          "timestamp": 1606651251041,
          "user_tz": -330,
          "elapsed": 1539,
          "user": {
            "displayName": "ml learning",
            "photoUrl": "https://lh3.googleusercontent.com/a-/AOh14Gi54U31iecMtBQhQx-mLOAQPIRpb8LNaNz7bB7A=s64",
            "userId": "11852164450280049527"
          }
        },
        "outputId": "07b346cf-0b9c-4ba0-f987-038765fa09d9"
      },
      "source": [
        "list(ticks_300['Symbol'].iloc[:10])"
      ],
      "execution_count": null,
      "outputs": [
        {
          "output_type": "execute_result",
          "data": {
            "text/plain": [
              "['ABB',\n",
              " 'AMARAJABAT',\n",
              " 'HDFC',\n",
              " 'ATUL',\n",
              " 'BAJAJELEC',\n",
              " 'FORCEMOT',\n",
              " 'BAJFINANCE',\n",
              " 'CENTURYTEX',\n",
              " 'BANARISUG',\n",
              " 'BASF']"
            ]
          },
          "metadata": {
            "tags": []
          },
          "execution_count": 28
        }
      ]
    },
    {
      "cell_type": "code",
      "metadata": {
        "id": "son_g0ahzRLa"
      },
      "source": [
        "file_path = '/content/drive/My Drive/Finance work/Stock Screener/data/'"
      ],
      "execution_count": null,
      "outputs": []
    },
    {
      "cell_type": "code",
      "metadata": {
        "id": "dKHylZmxoast"
      },
      "source": [
        "st_sym = list(ticks_300['Symbol'])\n",
        "\n",
        "def file_func(sym):\n",
        "  try:\n",
        "    sym_dtls = yhf(sym + '.NS', result_range='55d', interval='1d', dropna='True').result\n",
        "    sym_dtls.sort_index(ascending = False, inplace = True)\n",
        "    sym_dtls.to_parquet(file_path + sym + '.parquet.gzip', compression = 'gzip')\n",
        "  except:\n",
        "    None"
      ],
      "execution_count": null,
      "outputs": []
    },
    {
      "cell_type": "code",
      "metadata": {
        "id": "6fdDg_Ht3L3Y"
      },
      "source": [
        "p_map(file_func, st_sym)"
      ],
      "execution_count": null,
      "outputs": []
    },
    {
      "cell_type": "markdown",
      "metadata": {
        "id": "BZvn7afxpFRf"
      },
      "source": [
        "#test"
      ]
    },
    {
      "cell_type": "code",
      "metadata": {
        "id": "Oc7Juq6CEGin"
      },
      "source": [
        "def BULLISH_RSI(sym, adx_pr, morsi_pr, wkrsi_pr, dayrsi_pr, sma_pr, macd_fst_pr, macd_sl_pr, macd_sg_pr, vol_val, adx_val, rsi_val):\n",
        "\n",
        "  #finding latest close & volumes of stocks\n",
        "  try:\n",
        "    sym_dtls_DTF = yhf(sym + '.NS', result_range = '55d', interval = '1d', dropna = 'True').result\n",
        "    sym_dtls_MoTF = yhf(sym +'.NS', result_range='20mo', interval='1mo', dropna='True').result\n",
        "    sym_dtls_WkTF = yhf(sym +'.NS', result_range='20wk', interval='1wk', dropna='True').result\n",
        "    \n",
        "    \n",
        "    \n",
        "    #getting latest day close & volume\n",
        "    latest_day_dtls = sym_dtls_DTF.sort_index(ascending = False).iloc[0]\n",
        "    latest_day_close = latest_day_dtls['Close']\n",
        "    latest_day_volume = latest_day_dtls['Volume']\n",
        "\n",
        "    #Calculating ADX\n",
        "    ADX = ta.ADX(sym_dtls_DTF['High'], sym_dtls_DTF['Low'], sym_dtls_DTF['Close'], adx_pr).sort_index(ascending = False)[0]\n",
        "\n",
        "    #Calculating Monthly RSI\n",
        "    Mo_RSI = ta.RSI(sym_dtls_MoTF['Close'], morsi_pr).sort_index(ascending = False)[0]\n",
        "\n",
        "    #Calculating Weekly RSI\n",
        "    Wk_RSI = ta.RSI(sym_dtls_WkTF['Close'], wkrsi_pr).sort_index(ascending = False)[0]\n",
        "\n",
        "    #Calculating Day RSI\n",
        "    Day_RSI = ta.RSI(sym_dtls_DTF['Close'], dayrsi_pr).sort_index(ascending = False)[0]\n",
        "\n",
        "    #Calculating SMA\n",
        "    SMA = ta.SMA(sym_dtls_DTF['Close'], sma_pr).sort_index(ascending = False)[0]\n",
        "\n",
        "    #Calculating MACD of latest and prev day's\n",
        "    cd, sig, MACD_hist = ta.MACD(sym_dtls_DTF['Close'], macd_fst_pr, macd_sl_pr, macd_sg_pr)\n",
        "    MACD_hist = MACD_hist.sort_index(ascending = False)\n",
        "    MACD_hist_latest = MACD_hist[0]\n",
        "    MACD_hist_prev = np.nan if np.isnan(MACD_hist_latest) else MACD_hist[1]\n",
        "\n",
        "    #Stocks filtering condition\n",
        "\n",
        "    if(ADX >= adx_val and\n",
        "       (latest_day_close >= SMA) and\n",
        "       (MACD_hist_latest >= MACD_hist_prev) and\n",
        "       #(Mo_RSI > rsi_val or Wk_RSI > rsi_val or Day_RSI > rsi_val) and\n",
        "       Day_RSI > rsi_val and\n",
        "       latest_day_volume <= vol_val):\n",
        "      return dict({sym: [latest_day_close, latest_day_volume, Day_RSI]})\n",
        "    \n",
        "  except:\n",
        "    return 'Exception triggered!!'"
      ],
      "execution_count": null,
      "outputs": []
    },
    {
      "cell_type": "code",
      "metadata": {
        "colab": {
          "base_uri": "https://localhost:8080/",
          "height": 85,
          "referenced_widgets": [
            "55f392f3ea884d4eab7f162d60495a6f",
            "7ea9f0bd68294cf8a99ca6c27230a305",
            "8a260b8df3de47c598095b162444e016",
            "9b6bf24276c649beb691b6ec63491211",
            "e4ba82edfc3a45a8b8e9fa4bacd8aa9b",
            "c41e19a9a3ca422e88452111dcbf984c",
            "435f5a19cd4245169b87ca23a5e84c28",
            "5290807533c7428c81fe0f534f281091"
          ]
        },
        "id": "uZPnT53WJExv",
        "executionInfo": {
          "status": "ok",
          "timestamp": 1606676316262,
          "user_tz": -330,
          "elapsed": 6312,
          "user": {
            "displayName": "ml learning",
            "photoUrl": "https://lh3.googleusercontent.com/a-/AOh14Gi54U31iecMtBQhQx-mLOAQPIRpb8LNaNz7bB7A=s64",
            "userId": "11852164450280049527"
          }
        },
        "outputId": "e9cd065f-e744-4d88-a6f2-0c8fc6da2f5d"
      },
      "source": [
        "#sym_ = ['BANARISUG', 'BASF', 'BLUESTARCO', 'OAL', 'PGHL']\n",
        "\n",
        "sym_ = list(ticks_300['Symbol'].iloc[:30])\n",
        "start_time = time.time()\n",
        "#Here only pass values directly when calling via partial\n",
        "#assigning value to a variable then giving that variable to the func call creates problems.\n",
        "rsi_res = p_map(functools.partial(BULLISH_RSI,\n",
        "                        adx_pr = 14,\n",
        "                        morsi_pr = 14,\n",
        "                        wkrsi_pr = 14,\n",
        "                        dayrsi_pr = 14,\n",
        "                        sma_pr = 50,\n",
        "                        macd_fst_pr = 26,\n",
        "                        macd_sl_pr = 12,\n",
        "                        macd_sg_pr = 9,\n",
        "                        vol_val = 500000,\n",
        "                        adx_val = 30,\n",
        "                        rsi_val = 70),sym_)\n",
        "rsi_res = [x for x in rsi_res if x is not None]\n",
        "print(\"--- %s seconds ---\" % (time.time() - start_time))"
      ],
      "execution_count": null,
      "outputs": [
        {
          "output_type": "display_data",
          "data": {
            "application/vnd.jupyter.widget-view+json": {
              "model_id": "55f392f3ea884d4eab7f162d60495a6f",
              "version_minor": 0,
              "version_major": 2
            },
            "text/plain": [
              "HBox(children=(FloatProgress(value=0.0, max=30.0), HTML(value='')))"
            ]
          },
          "metadata": {
            "tags": []
          }
        },
        {
          "output_type": "stream",
          "text": [
            "\n",
            "--- 5.543915033340454 seconds ---\n"
          ],
          "name": "stdout"
        }
      ]
    },
    {
      "cell_type": "code",
      "metadata": {
        "id": "r_va-pF3PIt7"
      },
      "source": [
        "df = pd.DataFrame(rsi_res, columns = ['Symbol', 'Close', 'Volume', 'RSI_value'])"
      ],
      "execution_count": null,
      "outputs": []
    },
    {
      "cell_type": "code",
      "metadata": {
        "colab": {
          "base_uri": "https://localhost:8080/"
        },
        "id": "byKNQzFUSsGS",
        "executionInfo": {
          "status": "ok",
          "timestamp": 1606675006538,
          "user_tz": -330,
          "elapsed": 1417,
          "user": {
            "displayName": "ml learning",
            "photoUrl": "https://lh3.googleusercontent.com/a-/AOh14Gi54U31iecMtBQhQx-mLOAQPIRpb8LNaNz7bB7A=s64",
            "userId": "11852164450280049527"
          }
        },
        "outputId": "e5ec6646-c96e-47fc-bc16-4a0c55927277"
      },
      "source": [
        "rsi_res"
      ],
      "execution_count": null,
      "outputs": [
        {
          "output_type": "execute_result",
          "data": {
            "text/plain": [
              "[{'BANARISUG': [1346.05, 2951.0, 70.57555943542081]},\n",
              " {'BASF': [1656.15, 80255.0, 72.5949762906203]},\n",
              " {'PGHL': [6868.1, 70272.0, 85.3165681677016]},\n",
              " {'THERMAX': [893.4, 212921.0, 78.23637317778149]},\n",
              " {'CHOLAHLDNG': [541.2, 350669.0, 79.39418182620943]},\n",
              " {'AUTOAXLES': [953.85, 27215.0, 79.71712833155475]},\n",
              " {'CLNINDIA': [368.2, 421765.0, 76.94594895539612]},\n",
              " {'ALKYLAMINE': [4015.0, 194917.0, 79.70712419510505]},\n",
              " {'IFBAGRO': [497.95, 85137.0, 80.82723739783337]},\n",
              " {'GANECOS': [327.0, 34799.0, 76.33761893888966]},\n",
              " {'NSIL': [897.7, 1053.0, 81.614330865877]},\n",
              " {'CERA': [3124.5, 14254.0, 72.79249970394594]},\n",
              " {'RKFORGE': [452.65, 117956.0, 82.70406231589568]},\n",
              " {'JKCEMENT': [2029.95, 480009.0, 70.26089141504751]},\n",
              " {'GPIL': [418.2, 132881.0, 72.29774076786093]},\n",
              " {'VOLTAMP': [1180.2, 46436.0, 82.25105013629266]},\n",
              " {'VMART': [2252.3, 35296.0, 74.81989487972875]},\n",
              " {'POWERMECH': [425.4, 102186.0, 71.3767452199972]},\n",
              " {'LUXIND': [1606.5, 36782.0, 72.29477368554393]},\n",
              " {'SFL': [1531.85, 46246.0, 78.31390729937193]},\n",
              " {'SIS': [446.65, 403003.0, 76.57426973223646]},\n",
              " {'DIXON': [11879.8, 161397.0, 76.11433171771796]},\n",
              " {'DALBHARAT': [1101.7, 472395.0, 77.7855492211968]},\n",
              " {'POWERINDIA': [1139.75, 120137.0, 76.77230229908044]},\n",
              " {'AARTISURF': [1047.55, 35220.0, 81.33168362109957]}]"
            ]
          },
          "metadata": {
            "tags": []
          },
          "execution_count": 107
        }
      ]
    },
    {
      "cell_type": "code",
      "metadata": {
        "colab": {
          "base_uri": "https://localhost:8080/"
        },
        "id": "siMz-yyaJhov",
        "executionInfo": {
          "status": "ok",
          "timestamp": 1606674049718,
          "user_tz": -330,
          "elapsed": 1273,
          "user": {
            "displayName": "ml learning",
            "photoUrl": "https://lh3.googleusercontent.com/a-/AOh14Gi54U31iecMtBQhQx-mLOAQPIRpb8LNaNz7bB7A=s64",
            "userId": "11852164450280049527"
          }
        },
        "outputId": "a5347f7b-8b6f-48be-da86-0c0d3e7aa425"
      },
      "source": [
        "rsi_res"
      ],
      "execution_count": null,
      "outputs": [
        {
          "output_type": "execute_result",
          "data": {
            "text/plain": [
              "[{'BANARISUG': [1346.05, 2951.0, 70.57555943542081]},\n",
              " {'BASF': [1656.15, 80255.0, 72.5949762906203]},\n",
              " {'OAL': [516.85, 30909.0, 65.53319606408132]},\n",
              " {'PGHL': [6868.1, 70272.0, 85.3165681677016]},\n",
              " {'THERMAX': [893.4, 212921.0, 78.23637317778149]},\n",
              " {'TATACOMM': [1061.55, 152728.0, 61.5283642258436]},\n",
              " {'SAGCEM': [714.3, 17659.0, 54.226332445734805]},\n",
              " {'SARDAEN': [313.45, 82470.0, 67.9469119614006]},\n",
              " {'CHOLAHLDNG': [541.2, 350669.0, 79.39418182620943]},\n",
              " {'AUTOAXLES': [953.85, 27215.0, 79.71712833155475]},\n",
              " {'IFBIND': [776.1, 17402.0, 62.63707057457574]},\n",
              " {'CLNINDIA': [368.2, 421765.0, 76.94594895539612]},\n",
              " {'ALKYLAMINE': [4015.0, 194917.0, 79.70712419510505]},\n",
              " {'IFBAGRO': [497.95, 85137.0, 80.82723739783337]},\n",
              " {'GILLETTE': [5812.8, 44194.0, 66.8424964164342]},\n",
              " {'TATASTLLP': [478.25, 462725.0, 58.47394624729863]},\n",
              " {'GANECOS': [327.0, 34799.0, 76.33761893888966]},\n",
              " {'BUTTERFLY': [415.95, 21150.0, 68.87130131057776]},\n",
              " {'VADILALIND': [808.95, 10814.0, 66.2046817331952]},\n",
              " {'ADFFOODS': [459.8, 132486.0, 64.6867305625194]},\n",
              " {'BLUEDART': [3995.35, 29936.0, 62.493130322220324]},\n",
              " {'NSIL': [897.7, 1053.0, 81.614330865877]},\n",
              " {'CERA': [3124.5, 14254.0, 72.79249970394594]},\n",
              " {'NAVINFLUOR': [2687.1, 429850.0, 64.8991096155764]},\n",
              " {'RKFORGE': [452.65, 117956.0, 82.70406231589568]},\n",
              " {'JKCEMENT': [2029.95, 480009.0, 70.26089141504751]},\n",
              " {'GPIL': [418.2, 132881.0, 72.29774076786093]},\n",
              " {'VOLTAMP': [1180.2, 46436.0, 82.25105013629266]},\n",
              " {'KPRMILL': [805.5, 39840.0, 66.70705064610036]},\n",
              " {'APLAPOLLO': [3378.9, 166837.0, 68.30468082266363]},\n",
              " {'VMART': [2252.3, 35296.0, 74.81989487972875]},\n",
              " {'POWERMECH': [425.4, 102186.0, 71.3767452199972]},\n",
              " {'LUXIND': [1606.5, 36782.0, 72.29477368554393]},\n",
              " {'TEAMLEASE': [2499.9, 85159.0, 63.71871965458139]},\n",
              " {'SFL': [1531.85, 46246.0, 78.31390729937193]},\n",
              " {'SIS': [446.65, 403003.0, 76.57426973223646]},\n",
              " {'DIXON': [11879.8, 161397.0, 76.11433171771796]},\n",
              " {'DALBHARAT': [1101.7, 472395.0, 77.7855492211968]},\n",
              " {'POWERINDIA': [1139.75, 120137.0, 76.77230229908044]},\n",
              " {'AARTISURF': [1047.55, 35220.0, 81.33168362109957]}]"
            ]
          },
          "metadata": {
            "tags": []
          },
          "execution_count": 100
        }
      ]
    },
    {
      "cell_type": "code",
      "metadata": {
        "id": "JZstDGSwJhip"
      },
      "source": [
        ""
      ],
      "execution_count": null,
      "outputs": []
    },
    {
      "cell_type": "code",
      "metadata": {
        "id": "2XLFvCFkJheq"
      },
      "source": [
        ""
      ],
      "execution_count": null,
      "outputs": []
    },
    {
      "cell_type": "code",
      "metadata": {
        "id": "Rq7y3PHuJhZX"
      },
      "source": [
        ""
      ],
      "execution_count": null,
      "outputs": []
    },
    {
      "cell_type": "code",
      "metadata": {
        "id": "QvadvtDdpLDe"
      },
      "source": [
        "syms_f = list(stock_dtls['Security Id'])"
      ],
      "execution_count": null,
      "outputs": []
    },
    {
      "cell_type": "code",
      "metadata": {
        "id": "lFwKu_gBpS2k"
      },
      "source": [
        "final_msg = [['Started'], ['Ended']]"
      ],
      "execution_count": null,
      "outputs": []
    },
    {
      "cell_type": "code",
      "metadata": {
        "id": "mNSSj6-xpHdT"
      },
      "source": [
        "telegram_send.send(messages = final_msg[0])\n",
        "ticks_200_500K = list()\n",
        "for tick in syms_f:\n",
        "  try:\n",
        "    tk_cl_vol = yhf(tick+'.NS', result_range='2d', interval='1d', dropna='True').result.iloc[-1][['Close', 'Volume']]\n",
        "    if (tk_cl_vol['Close']>=200 and tk_cl_vol['Volume']<=500000):\n",
        "      ticks_200_500K.append([tick, tk_cl_vol['Close'], tk_cl_vol['Volume']])\n",
        "  except:\n",
        "    None\n",
        "\n",
        "telegram_send.send(messages = final_msg[1])"
      ],
      "execution_count": null,
      "outputs": []
    },
    {
      "cell_type": "code",
      "metadata": {
        "id": "sLbDDfPevsTT"
      },
      "source": [
        "ticks_200_500K = pd.DataFrame(ticks_200_500K, columns = ['Symbol', 'Price', 'Volume'])\n",
        "ticks_200_vol.to_parquet('/content/drive/My Drive/Finance work/Stock Screener/Ticks_200_500K.parquet.gzip', compression='gzip')"
      ],
      "execution_count": null,
      "outputs": []
    },
    {
      "cell_type": "code",
      "metadata": {
        "id": "3cgmQIbxpSKR"
      },
      "source": [
        "ticks_vol"
      ],
      "execution_count": null,
      "outputs": []
    },
    {
      "cell_type": "code",
      "metadata": {
        "id": "XjZ0ZdMzttP6"
      },
      "source": [
        "telegram_send.send(messages = final_msg[0])\n",
        "ticks_300 = list()\n",
        "for tick in syms_f:\n",
        "  try:\n",
        "    tk_cl_300 = yhf(tick+'.NS', result_range='2d', interval='1d', dropna='True').result.iloc[-1][['Close', 'Volume']]\n",
        "    if (tk_cl_300['Close']>=300):\n",
        "      ticks_300.append([tick, tk_cl_300['Close'], tk_cl_300['Volume']])\n",
        "  except:\n",
        "    None\n",
        "\n",
        "telegram_send.send(messages = final_msg[1])"
      ],
      "execution_count": null,
      "outputs": []
    },
    {
      "cell_type": "code",
      "metadata": {
        "id": "Pw2gVfMXuIpl"
      },
      "source": [
        "ticks_300 = pd.DataFrame(ticks_300, columns = ['Symbol', 'Price', 'Volume'])\n",
        "ticks_300.to_parquet('/content/drive/My Drive/Finance work/Stock Screener/Ticks_300.parquet.gzip', compression='gzip')"
      ],
      "execution_count": null,
      "outputs": []
    },
    {
      "cell_type": "code",
      "metadata": {
        "colab": {
          "base_uri": "https://localhost:8080/"
        },
        "id": "MnBAo2zv8zqh",
        "executionInfo": {
          "status": "ok",
          "timestamp": 1606635705613,
          "user_tz": -330,
          "elapsed": 960,
          "user": {
            "displayName": "ml learning",
            "photoUrl": "https://lh3.googleusercontent.com/a-/AOh14Gi54U31iecMtBQhQx-mLOAQPIRpb8LNaNz7bB7A=s64",
            "userId": "11852164450280049527"
          }
        },
        "outputId": "e5d0360f-2902-4fd0-fe0d-9c00ad22692d"
      },
      "source": [
        "len(ticks_300)"
      ],
      "execution_count": null,
      "outputs": [
        {
          "output_type": "execute_result",
          "data": {
            "text/plain": [
              "431"
            ]
          },
          "metadata": {
            "tags": []
          },
          "execution_count": 189
        }
      ]
    }
  ]
}